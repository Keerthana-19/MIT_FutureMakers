{
  "nbformat": 4,
  "nbformat_minor": 0,
  "metadata": {
    "colab": {
      "name": "SciKit Iris DecisionTree.ipynb",
      "provenance": [],
      "authorship_tag": "ABX9TyPEXWLbQTbu1+JNGlOJCO77"
    },
    "kernelspec": {
      "name": "python3",
      "display_name": "Python 3"
    },
    "language_info": {
      "name": "python"
    }
  },
  "cells": [
    {
      "cell_type": "markdown",
      "metadata": {
        "id": "vireYrpMe36n"
      },
      "source": [
        "# Iris Decision Tree Model Training"
      ]
    },
    {
      "cell_type": "code",
      "metadata": {
        "id": "usez6LFpdP5a"
      },
      "source": [
        "from sklearn.datasets import load_iris\n",
        "from sklearn import tree"
      ],
      "execution_count": null,
      "outputs": []
    },
    {
      "cell_type": "code",
      "metadata": {
        "id": "KM6ubC-HeEx1"
      },
      "source": [
        "#Dataset loading\n",
        "iris_data = load_iris()"
      ],
      "execution_count": null,
      "outputs": []
    },
    {
      "cell_type": "code",
      "metadata": {
        "id": "xMMGIq08eJ_g"
      },
      "source": [
        "#Initializing decision tree model\n",
        "classification_tree = tree.DecisionTreeClassifier()"
      ],
      "execution_count": null,
      "outputs": []
    },
    {
      "cell_type": "code",
      "metadata": {
        "id": "VafJgxtvePop"
      },
      "source": [
        "#Training model with iris dataset\n",
        "classification_tree = classification_tree.fit(iris_data.data, iris_data.target)"
      ],
      "execution_count": null,
      "outputs": []
    },
    {
      "cell_type": "markdown",
      "metadata": {
        "id": "IMiQ6Z92fCOQ"
      },
      "source": [
        "Decision Tree Node Visualization"
      ]
    },
    {
      "cell_type": "code",
      "metadata": {
        "id": "gcGkU5mZeeSq"
      },
      "source": [
        "import graphviz"
      ],
      "execution_count": null,
      "outputs": []
    },
    {
      "cell_type": "code",
      "metadata": {
        "id": "MKlLZXoRfNuh"
      },
      "source": [
        "dot_data = tree.export_graphviz(classification_tree, out_file=None, feature_names=iris_data.feature_names, class_names=iris_data.target_names, filled=True, rounded=True, special_characters=True)"
      ],
      "execution_count": null,
      "outputs": []
    },
    {
      "cell_type": "code",
      "metadata": {
        "id": "soK9BNVKgFcC"
      },
      "source": [
        "graph = graphviz.Source(dot_data)"
      ],
      "execution_count": null,
      "outputs": []
    },
    {
      "cell_type": "code",
      "metadata": {
        "colab": {
          "base_uri": "https://localhost:8080/",
          "height": 37
        },
        "id": "AOT7yLochCfG",
        "outputId": "99bcf15f-835f-4b77-8e55-afdf8147b8bb"
      },
      "source": [
        "graph.render(\"iris\", view=True)"
      ],
      "execution_count": null,
      "outputs": [
        {
          "output_type": "execute_result",
          "data": {
            "application/vnd.google.colaboratory.intrinsic+json": {
              "type": "string"
            },
            "text/plain": [
              "'iris.pdf'"
            ]
          },
          "metadata": {
            "tags": []
          },
          "execution_count": 14
        }
      ]
    },
    {
      "cell_type": "code",
      "metadata": {
        "id": "vcYZD8ImlKCE"
      },
      "source": [
        ""
      ],
      "execution_count": null,
      "outputs": []
    }
  ]
}