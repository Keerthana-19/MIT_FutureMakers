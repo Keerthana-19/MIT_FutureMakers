{
  "nbformat": 4,
  "nbformat_minor": 0,
  "metadata": {
    "colab": {
      "name": "Emotion Detection.ipynb",
      "provenance": [],
      "authorship_tag": "ABX9TyPI7bXAOBedwUW4PNRmPSA0"
    },
    "kernelspec": {
      "name": "python3",
      "display_name": "Python 3"
    },
    "language_info": {
      "name": "python"
    }
  },
  "cells": [
    {
      "cell_type": "code",
      "metadata": {
        "id": "JUVSqaberMNi"
      },
      "source": [
        "import keras\n",
        "from keras.preprocessing.image import ImageDataGenerator\n",
        "from keras.models import Sequential\n",
        "from keras.layers import Dense,Dropout,Activation,Flatten,BatchNormalization,Conv2D,MaxPooling2D\n",
        "import os\n",
        "from keras.optimizers import RMSprop,SGD,Adam\n",
        "from keras.callbacks import ModelCheckpoint, EarlyStopping, ReduceLROnPlateau"
      ],
      "execution_count": 8,
      "outputs": []
    },
    {
      "cell_type": "code",
      "metadata": {
        "id": "on9Cj4BlrYuU"
      },
      "source": [
        "num_classes=5\n",
        "img_rows,img_cols=48,48\n",
        "batch_size=32"
      ],
      "execution_count": 9,
      "outputs": []
    },
    {
      "cell_type": "code",
      "metadata": {
        "id": "pvvvBE9oreM-"
      },
      "source": [
        "train_datagen = ImageDataGenerator(\n",
        "    rescale=1./255,\n",
        "    rotation_range=30,\n",
        "    shear_range=0.3,\n",
        "    zoom_range=0.3,\n",
        "    width_shift_range=0.4,\n",
        "    height_shift_range=0.4,\n",
        "    horizontal_flip=True,\n",
        "    fill_mode='nearest')"
      ],
      "execution_count": 10,
      "outputs": []
    },
    {
      "cell_type": "code",
      "metadata": {
        "id": "JSLumSS8w_P4"
      },
      "source": [
        "validation_datagen = ImageDataGenerator(rescale=1./255)"
      ],
      "execution_count": 11,
      "outputs": []
    },
    {
      "cell_type": "code",
      "metadata": {
        "colab": {
          "base_uri": "https://localhost:8080/"
        },
        "id": "nvPCQdsXJIwr",
        "outputId": "8c1e569c-d9ca-49fb-d815-070b5054b900"
      },
      "source": [
        "from google.colab import drive\n",
        "drive.mount('/content/drive')"
      ],
      "execution_count": 15,
      "outputs": [
        {
          "output_type": "stream",
          "text": [
            "Mounted at /content/drive\n"
          ],
          "name": "stdout"
        }
      ]
    },
    {
      "cell_type": "code",
      "metadata": {
        "id": "091ozBvtItTE"
      },
      "source": [
        "train_data_dir = \"/content/drive/MyDrive/MIT FutureMakers/Day 24/Training\""
      ],
      "execution_count": 20,
      "outputs": []
    },
    {
      "cell_type": "code",
      "metadata": {
        "id": "cQML4K_zxBbH",
        "colab": {
          "base_uri": "https://localhost:8080/"
        },
        "outputId": "cb68b971-abd8-48ad-ebf8-ea28360edf6c"
      },
      "source": [
        "train_generator = train_datagen.flow_from_directory(\n",
        " train_data_dir,\n",
        " color_mode='grayscale',\n",
        " target_size=(img_rows,img_cols),\n",
        " batch_size=batch_size,\n",
        " class_mode='categorical',\n",
        " shuffle=True)"
      ],
      "execution_count": 21,
      "outputs": [
        {
          "output_type": "stream",
          "text": [
            "Found 24276 images belonging to 5 classes.\n"
          ],
          "name": "stdout"
        }
      ]
    },
    {
      "cell_type": "code",
      "metadata": {
        "id": "2YrxqBN6KLye"
      },
      "source": [
        "validation_data_dir = \"/content/drive/MyDrive/MIT FutureMakers/Day 24/Validation\""
      ],
      "execution_count": 22,
      "outputs": []
    },
    {
      "cell_type": "code",
      "metadata": {
        "id": "XLDJLt6xxEEg",
        "colab": {
          "base_uri": "https://localhost:8080/"
        },
        "outputId": "4be4cc30-9bbf-4e6b-a99d-4bbe95012cb0"
      },
      "source": [
        "validation_generator = validation_datagen.flow_from_directory(\n",
        " validation_data_dir,\n",
        " color_mode='grayscale',\n",
        " target_size=(img_rows,img_cols),\n",
        " batch_size=batch_size,\n",
        " class_mode='categorical',\n",
        " shuffle=True)"
      ],
      "execution_count": 23,
      "outputs": [
        {
          "output_type": "stream",
          "text": [
            "Found 3005 images belonging to 5 classes.\n"
          ],
          "name": "stdout"
        }
      ]
    },
    {
      "cell_type": "code",
      "metadata": {
        "id": "xjNGEbPZxFea"
      },
      "source": [
        "model = Sequential()"
      ],
      "execution_count": 24,
      "outputs": []
    },
    {
      "cell_type": "code",
      "metadata": {
        "id": "W85K2YRgxSc3"
      },
      "source": [
        "model.add(Conv2D(32,(3,3),padding='same',kernel_initializer='he_normal',\n",
        "                 input_shape=(img_rows,img_cols,1)))\n",
        "model.add(Activation('elu'))\n",
        "model.add(BatchNormalization())\n",
        "model.add(Conv2D(32,(3,3),padding='same',kernel_initializer='he_normal',\n",
        "                 input_shape=(img_rows,img_cols,1)))\n",
        "model.add(Activation('elu'))\n",
        "model.add(BatchNormalization())\n",
        "model.add(MaxPooling2D(pool_size=(2,2)))\n",
        "model.add(Dropout(0.2))\n",
        "\n",
        "model.add(Conv2D(64,(3,3),padding='same',kernel_initializer='he_normal'))\n",
        "model.add(Activation('elu'))\n",
        "model.add(BatchNormalization())\n",
        "model.add(Conv2D(64,(3,3),padding='same',kernel_initializer='he_normal'))\n",
        "model.add(Activation('elu'))\n",
        "model.add(BatchNormalization())\n",
        "model.add(MaxPooling2D(pool_size=(2,2)))\n",
        "model.add(Dropout(0.2))\n",
        "\n",
        "model.add(Conv2D(128,(3,3),padding='same',kernel_initializer='he_normal'))\n",
        "model.add(Activation('elu'))\n",
        "model.add(BatchNormalization())\n",
        "model.add(Conv2D(128,(3,3),padding='same',kernel_initializer='he_normal'))\n",
        "model.add(Activation('elu'))\n",
        "model.add(BatchNormalization())\n",
        "model.add(MaxPooling2D(pool_size=(2,2)))\n",
        "model.add(Dropout(0.2))\n",
        "\n",
        "model.add(Conv2D(256,(3,3),padding='same',kernel_initializer='he_normal'))\n",
        "model.add(Activation('elu'))\n",
        "model.add(BatchNormalization())\n",
        "model.add(Conv2D(256,(3,3),padding='same',kernel_initializer='he_normal'))\n",
        "model.add(Activation('elu'))\n",
        "model.add(BatchNormalization())\n",
        "model.add(MaxPooling2D(pool_size=(2,2)))\n",
        "model.add(Dropout(0.2))\n",
        "\n",
        "model.add(Flatten())\n",
        "model.add(Dense(64,kernel_initializer='he_normal'))\n",
        "model.add(Activation('elu'))\n",
        "model.add(BatchNormalization())\n",
        "model.add(Dropout(0.5))\n",
        "\n",
        "model.add(Dense(64,kernel_initializer='he_normal'))\n",
        "model.add(Activation('elu'))\n",
        "model.add(BatchNormalization())\n",
        "model.add(Dropout(0.5))\n",
        "\n",
        "model.add(Dense(num_classes,kernel_initializer='he_normal'))\n",
        "model.add(Activation('softmax'))"
      ],
      "execution_count": 25,
      "outputs": []
    },
    {
      "cell_type": "code",
      "metadata": {
        "id": "VJLMZAcF9vWH",
        "colab": {
          "base_uri": "https://localhost:8080/"
        },
        "outputId": "7b0b4ef9-2472-4fe9-e762-054de168413a"
      },
      "source": [
        "print(model.summary())"
      ],
      "execution_count": 26,
      "outputs": [
        {
          "output_type": "stream",
          "text": [
            "Model: \"sequential\"\n",
            "_________________________________________________________________\n",
            "Layer (type)                 Output Shape              Param #   \n",
            "=================================================================\n",
            "conv2d (Conv2D)              (None, 48, 48, 32)        320       \n",
            "_________________________________________________________________\n",
            "activation (Activation)      (None, 48, 48, 32)        0         \n",
            "_________________________________________________________________\n",
            "batch_normalization (BatchNo (None, 48, 48, 32)        128       \n",
            "_________________________________________________________________\n",
            "conv2d_1 (Conv2D)            (None, 48, 48, 32)        9248      \n",
            "_________________________________________________________________\n",
            "activation_1 (Activation)    (None, 48, 48, 32)        0         \n",
            "_________________________________________________________________\n",
            "batch_normalization_1 (Batch (None, 48, 48, 32)        128       \n",
            "_________________________________________________________________\n",
            "max_pooling2d (MaxPooling2D) (None, 24, 24, 32)        0         \n",
            "_________________________________________________________________\n",
            "dropout (Dropout)            (None, 24, 24, 32)        0         \n",
            "_________________________________________________________________\n",
            "conv2d_2 (Conv2D)            (None, 24, 24, 64)        18496     \n",
            "_________________________________________________________________\n",
            "activation_2 (Activation)    (None, 24, 24, 64)        0         \n",
            "_________________________________________________________________\n",
            "batch_normalization_2 (Batch (None, 24, 24, 64)        256       \n",
            "_________________________________________________________________\n",
            "conv2d_3 (Conv2D)            (None, 24, 24, 64)        36928     \n",
            "_________________________________________________________________\n",
            "activation_3 (Activation)    (None, 24, 24, 64)        0         \n",
            "_________________________________________________________________\n",
            "batch_normalization_3 (Batch (None, 24, 24, 64)        256       \n",
            "_________________________________________________________________\n",
            "max_pooling2d_1 (MaxPooling2 (None, 12, 12, 64)        0         \n",
            "_________________________________________________________________\n",
            "dropout_1 (Dropout)          (None, 12, 12, 64)        0         \n",
            "_________________________________________________________________\n",
            "conv2d_4 (Conv2D)            (None, 12, 12, 128)       73856     \n",
            "_________________________________________________________________\n",
            "activation_4 (Activation)    (None, 12, 12, 128)       0         \n",
            "_________________________________________________________________\n",
            "batch_normalization_4 (Batch (None, 12, 12, 128)       512       \n",
            "_________________________________________________________________\n",
            "conv2d_5 (Conv2D)            (None, 12, 12, 128)       147584    \n",
            "_________________________________________________________________\n",
            "activation_5 (Activation)    (None, 12, 12, 128)       0         \n",
            "_________________________________________________________________\n",
            "batch_normalization_5 (Batch (None, 12, 12, 128)       512       \n",
            "_________________________________________________________________\n",
            "max_pooling2d_2 (MaxPooling2 (None, 6, 6, 128)         0         \n",
            "_________________________________________________________________\n",
            "dropout_2 (Dropout)          (None, 6, 6, 128)         0         \n",
            "_________________________________________________________________\n",
            "conv2d_6 (Conv2D)            (None, 6, 6, 256)         295168    \n",
            "_________________________________________________________________\n",
            "activation_6 (Activation)    (None, 6, 6, 256)         0         \n",
            "_________________________________________________________________\n",
            "batch_normalization_6 (Batch (None, 6, 6, 256)         1024      \n",
            "_________________________________________________________________\n",
            "conv2d_7 (Conv2D)            (None, 6, 6, 256)         590080    \n",
            "_________________________________________________________________\n",
            "activation_7 (Activation)    (None, 6, 6, 256)         0         \n",
            "_________________________________________________________________\n",
            "batch_normalization_7 (Batch (None, 6, 6, 256)         1024      \n",
            "_________________________________________________________________\n",
            "max_pooling2d_3 (MaxPooling2 (None, 3, 3, 256)         0         \n",
            "_________________________________________________________________\n",
            "dropout_3 (Dropout)          (None, 3, 3, 256)         0         \n",
            "_________________________________________________________________\n",
            "flatten (Flatten)            (None, 2304)              0         \n",
            "_________________________________________________________________\n",
            "dense (Dense)                (None, 64)                147520    \n",
            "_________________________________________________________________\n",
            "activation_8 (Activation)    (None, 64)                0         \n",
            "_________________________________________________________________\n",
            "batch_normalization_8 (Batch (None, 64)                256       \n",
            "_________________________________________________________________\n",
            "dropout_4 (Dropout)          (None, 64)                0         \n",
            "_________________________________________________________________\n",
            "dense_1 (Dense)              (None, 64)                4160      \n",
            "_________________________________________________________________\n",
            "activation_9 (Activation)    (None, 64)                0         \n",
            "_________________________________________________________________\n",
            "batch_normalization_9 (Batch (None, 64)                256       \n",
            "_________________________________________________________________\n",
            "dropout_5 (Dropout)          (None, 64)                0         \n",
            "_________________________________________________________________\n",
            "dense_2 (Dense)              (None, 5)                 325       \n",
            "_________________________________________________________________\n",
            "activation_10 (Activation)   (None, 5)                 0         \n",
            "=================================================================\n",
            "Total params: 1,328,037\n",
            "Trainable params: 1,325,861\n",
            "Non-trainable params: 2,176\n",
            "_________________________________________________________________\n",
            "None\n"
          ],
          "name": "stdout"
        }
      ]
    },
    {
      "cell_type": "code",
      "metadata": {
        "id": "aV8KsBab95de"
      },
      "source": [
        "checkpoint = ModelCheckpoint('EmotionDetectionModel.h5',\n",
        "                             monitor='val_loss',\n",
        "                             mode='min',\n",
        "                             save_best_only=True,\n",
        "                             verbose=1)"
      ],
      "execution_count": 27,
      "outputs": []
    },
    {
      "cell_type": "code",
      "metadata": {
        "id": "7aScOzIX98c4"
      },
      "source": [
        "earlystop = EarlyStopping(monitor='val_loss',\n",
        "                          min_delta=0,\n",
        "                          patience=3,\n",
        "                          verbose=1,\n",
        "                          restore_best_weights=True\n",
        "                          )"
      ],
      "execution_count": 28,
      "outputs": []
    },
    {
      "cell_type": "code",
      "metadata": {
        "id": "UMXSUzgf9963"
      },
      "source": [
        "reduce_lr = ReduceLROnPlateau(monitor='val_loss',\n",
        "                              factor=0.2,\n",
        "                              patience=3,\n",
        "                              verbose=1,\n",
        "                              min_delta=0.0001)"
      ],
      "execution_count": 29,
      "outputs": []
    },
    {
      "cell_type": "code",
      "metadata": {
        "id": "amx34Jrq9_hW"
      },
      "source": [
        "callbacks = [earlystop,checkpoint,reduce_lr]"
      ],
      "execution_count": 30,
      "outputs": []
    },
    {
      "cell_type": "code",
      "metadata": {
        "id": "OwmmjK0c-DAH",
        "colab": {
          "base_uri": "https://localhost:8080/"
        },
        "outputId": "3c103e1a-3c10-405f-da4b-ba42faa418ad"
      },
      "source": [
        "model.compile(loss='categorical_crossentropy',\n",
        " optimizer = Adam(lr=0.001),\n",
        " metrics=['accuracy'])\n",
        "\n",
        "nb_train_samples = 24176\n",
        "nb_validation_samples = 3006\n",
        "epochs=25\n",
        "\n",
        "history=model.fit_generator(\n",
        " train_generator,\n",
        " steps_per_epoch=nb_train_samples//batch_size,\n",
        " epochs=epochs,\n",
        " callbacks=callbacks,\n",
        " validation_data=validation_generator,\n",
        " validation_steps=nb_validation_samples//batch_size)"
      ],
      "execution_count": 31,
      "outputs": [
        {
          "output_type": "stream",
          "text": [
            "/usr/local/lib/python3.7/dist-packages/tensorflow/python/keras/optimizer_v2/optimizer_v2.py:375: UserWarning: The `lr` argument is deprecated, use `learning_rate` instead.\n",
            "  \"The `lr` argument is deprecated, use `learning_rate` instead.\")\n",
            "/usr/local/lib/python3.7/dist-packages/keras/engine/training.py:1915: UserWarning: `Model.fit_generator` is deprecated and will be removed in a future version. Please use `Model.fit`, which supports generators.\n",
            "  warnings.warn('`Model.fit_generator` is deprecated and '\n"
          ],
          "name": "stderr"
        },
        {
          "output_type": "stream",
          "text": [
            "Epoch 1/25\n",
            "755/755 [==============================] - 6787s 9s/step - loss: 2.0811 - accuracy: 0.2258 - val_loss: 1.5812 - val_accuracy: 0.2883\n",
            "\n",
            "Epoch 00001: val_loss improved from inf to 1.58122, saving model to EmotionDetectionModel.h5\n",
            "Epoch 2/25\n",
            "755/755 [==============================] - 647s 857ms/step - loss: 1.5904 - accuracy: 0.2806 - val_loss: 1.5263 - val_accuracy: 0.3145\n",
            "\n",
            "Epoch 00002: val_loss improved from 1.58122 to 1.52634, saving model to EmotionDetectionModel.h5\n",
            "Epoch 3/25\n",
            "755/755 [==============================] - 642s 850ms/step - loss: 1.5519 - accuracy: 0.2946 - val_loss: 1.5161 - val_accuracy: 0.3229\n",
            "\n",
            "Epoch 00003: val_loss improved from 1.52634 to 1.51611, saving model to EmotionDetectionModel.h5\n",
            "Epoch 4/25\n",
            "755/755 [==============================] - 643s 852ms/step - loss: 1.5246 - accuracy: 0.3178 - val_loss: 1.5461 - val_accuracy: 0.3347\n",
            "\n",
            "Epoch 00004: val_loss did not improve from 1.51611\n",
            "Epoch 5/25\n",
            "755/755 [==============================] - 639s 847ms/step - loss: 1.4572 - accuracy: 0.3534 - val_loss: 1.4846 - val_accuracy: 0.4540\n",
            "\n",
            "Epoch 00005: val_loss improved from 1.51611 to 1.48461, saving model to EmotionDetectionModel.h5\n",
            "Epoch 6/25\n",
            "755/755 [==============================] - 639s 846ms/step - loss: 1.3557 - accuracy: 0.4278 - val_loss: 1.5266 - val_accuracy: 0.4758\n",
            "\n",
            "Epoch 00006: val_loss did not improve from 1.48461\n",
            "Epoch 7/25\n",
            "755/755 [==============================] - 641s 848ms/step - loss: 1.2839 - accuracy: 0.4672 - val_loss: 1.4354 - val_accuracy: 0.4859\n",
            "\n",
            "Epoch 00007: val_loss improved from 1.48461 to 1.43537, saving model to EmotionDetectionModel.h5\n",
            "Epoch 8/25\n",
            "755/755 [==============================] - 644s 854ms/step - loss: 1.2255 - accuracy: 0.4986 - val_loss: 1.3437 - val_accuracy: 0.5225\n",
            "\n",
            "Epoch 00008: val_loss improved from 1.43537 to 1.34366, saving model to EmotionDetectionModel.h5\n",
            "Epoch 9/25\n",
            "755/755 [==============================] - 640s 848ms/step - loss: 1.1811 - accuracy: 0.5203 - val_loss: 1.3656 - val_accuracy: 0.5312\n",
            "\n",
            "Epoch 00009: val_loss did not improve from 1.34366\n",
            "Epoch 10/25\n",
            "755/755 [==============================] - 648s 859ms/step - loss: 1.1623 - accuracy: 0.5364 - val_loss: 1.3495 - val_accuracy: 0.5403\n",
            "\n",
            "Epoch 00010: val_loss did not improve from 1.34366\n",
            "Epoch 11/25\n",
            "755/755 [==============================] - 649s 859ms/step - loss: 1.1373 - accuracy: 0.5477 - val_loss: 1.2852 - val_accuracy: 0.5380\n",
            "\n",
            "Epoch 00011: val_loss improved from 1.34366 to 1.28515, saving model to EmotionDetectionModel.h5\n",
            "Epoch 12/25\n",
            "755/755 [==============================] - 644s 853ms/step - loss: 1.1044 - accuracy: 0.5570 - val_loss: 1.3175 - val_accuracy: 0.5685\n",
            "\n",
            "Epoch 00012: val_loss did not improve from 1.28515\n",
            "Epoch 13/25\n",
            "755/755 [==============================] - 646s 856ms/step - loss: 1.0763 - accuracy: 0.5715 - val_loss: 1.2308 - val_accuracy: 0.5561\n",
            "\n",
            "Epoch 00013: val_loss improved from 1.28515 to 1.23085, saving model to EmotionDetectionModel.h5\n",
            "Epoch 14/25\n",
            "755/755 [==============================] - 657s 870ms/step - loss: 1.0667 - accuracy: 0.5804 - val_loss: 1.2243 - val_accuracy: 0.5743\n",
            "\n",
            "Epoch 00014: val_loss improved from 1.23085 to 1.22431, saving model to EmotionDetectionModel.h5\n",
            "Epoch 15/25\n",
            "755/755 [==============================] - 651s 861ms/step - loss: 1.0635 - accuracy: 0.5765 - val_loss: 1.1925 - val_accuracy: 0.5917\n",
            "\n",
            "Epoch 00015: val_loss improved from 1.22431 to 1.19245, saving model to EmotionDetectionModel.h5\n",
            "Epoch 16/25\n",
            "755/755 [==============================] - 652s 863ms/step - loss: 1.0432 - accuracy: 0.5877 - val_loss: 1.2150 - val_accuracy: 0.5914\n",
            "\n",
            "Epoch 00016: val_loss did not improve from 1.19245\n",
            "Epoch 17/25\n",
            "755/755 [==============================] - 652s 864ms/step - loss: 1.0436 - accuracy: 0.5947 - val_loss: 1.2066 - val_accuracy: 0.5763\n",
            "\n",
            "Epoch 00017: val_loss did not improve from 1.19245\n",
            "Epoch 18/25\n",
            "755/755 [==============================] - 653s 865ms/step - loss: 1.0491 - accuracy: 0.5921 - val_loss: 1.3134 - val_accuracy: 0.5769\n",
            "Restoring model weights from the end of the best epoch.\n",
            "\n",
            "Epoch 00018: val_loss did not improve from 1.19245\n",
            "\n",
            "Epoch 00018: ReduceLROnPlateau reducing learning rate to 0.00020000000949949026.\n",
            "Epoch 00018: early stopping\n"
          ],
          "name": "stdout"
        }
      ]
    },
    {
      "cell_type": "code",
      "metadata": {
        "id": "SqNurnHfLESf"
      },
      "source": [
        "from keras.models import load_model\n",
        "from keras.preprocessing.image import img_to_array\n",
        "from keras.preprocessing import image\n",
        "import cv2\n",
        "import numpy as np"
      ],
      "execution_count": 32,
      "outputs": []
    },
    {
      "cell_type": "code",
      "metadata": {
        "colab": {
          "base_uri": "https://localhost:8080/",
          "height": 324
        },
        "id": "O9EZO_J_TNk2",
        "outputId": "c4cd08ff-5a52-45e7-f468-e755d16775d5"
      },
      "source": [
        "face_classifier=cv2.CascadeClassifier('/haarcascade_frontalface_default.xml')\n",
        "classifier = load_model('/EmotionDetectionModel.h5')"
      ],
      "execution_count": 33,
      "outputs": [
        {
          "output_type": "error",
          "ename": "OSError",
          "evalue": "ignored",
          "traceback": [
            "\u001b[0;31m---------------------------------------------------------------------------\u001b[0m",
            "\u001b[0;31mOSError\u001b[0m                                   Traceback (most recent call last)",
            "\u001b[0;32m<ipython-input-33-c399ba035978>\u001b[0m in \u001b[0;36m<module>\u001b[0;34m()\u001b[0m\n\u001b[1;32m      1\u001b[0m \u001b[0mface_classifier\u001b[0m\u001b[0;34m=\u001b[0m\u001b[0mcv2\u001b[0m\u001b[0;34m.\u001b[0m\u001b[0mCascadeClassifier\u001b[0m\u001b[0;34m(\u001b[0m\u001b[0;34m'/haarcascade_frontalface_default.xml'\u001b[0m\u001b[0;34m)\u001b[0m\u001b[0;34m\u001b[0m\u001b[0;34m\u001b[0m\u001b[0m\n\u001b[0;32m----> 2\u001b[0;31m \u001b[0mclassifier\u001b[0m \u001b[0;34m=\u001b[0m \u001b[0mload_model\u001b[0m\u001b[0;34m(\u001b[0m\u001b[0;34m'/EmotionDetectionModel.h5'\u001b[0m\u001b[0;34m)\u001b[0m\u001b[0;34m\u001b[0m\u001b[0;34m\u001b[0m\u001b[0m\n\u001b[0m",
            "\u001b[0;32m/usr/local/lib/python3.7/dist-packages/keras/saving/save.py\u001b[0m in \u001b[0;36mload_model\u001b[0;34m(filepath, custom_objects, compile, options)\u001b[0m\n\u001b[1;32m    204\u001b[0m         \u001b[0mfilepath\u001b[0m \u001b[0;34m=\u001b[0m \u001b[0mpath_to_string\u001b[0m\u001b[0;34m(\u001b[0m\u001b[0mfilepath\u001b[0m\u001b[0;34m)\u001b[0m\u001b[0;34m\u001b[0m\u001b[0;34m\u001b[0m\u001b[0m\n\u001b[1;32m    205\u001b[0m         \u001b[0;32mif\u001b[0m \u001b[0misinstance\u001b[0m\u001b[0;34m(\u001b[0m\u001b[0mfilepath\u001b[0m\u001b[0;34m,\u001b[0m \u001b[0mstr\u001b[0m\u001b[0;34m)\u001b[0m\u001b[0;34m:\u001b[0m\u001b[0;34m\u001b[0m\u001b[0;34m\u001b[0m\u001b[0m\n\u001b[0;32m--> 206\u001b[0;31m           \u001b[0;32mreturn\u001b[0m \u001b[0msaved_model_load\u001b[0m\u001b[0;34m.\u001b[0m\u001b[0mload\u001b[0m\u001b[0;34m(\u001b[0m\u001b[0mfilepath\u001b[0m\u001b[0;34m,\u001b[0m \u001b[0mcompile\u001b[0m\u001b[0;34m,\u001b[0m \u001b[0moptions\u001b[0m\u001b[0;34m)\u001b[0m\u001b[0;34m\u001b[0m\u001b[0;34m\u001b[0m\u001b[0m\n\u001b[0m\u001b[1;32m    207\u001b[0m \u001b[0;34m\u001b[0m\u001b[0m\n\u001b[1;32m    208\u001b[0m   raise IOError(\n",
            "\u001b[0;32m/usr/local/lib/python3.7/dist-packages/keras/saving/saved_model/load.py\u001b[0m in \u001b[0;36mload\u001b[0;34m(path, compile, options)\u001b[0m\n\u001b[1;32m    107\u001b[0m   \u001b[0;31m# Look for metadata file or parse the SavedModel\u001b[0m\u001b[0;34m\u001b[0m\u001b[0;34m\u001b[0m\u001b[0;34m\u001b[0m\u001b[0m\n\u001b[1;32m    108\u001b[0m   \u001b[0mmetadata\u001b[0m \u001b[0;34m=\u001b[0m \u001b[0msaved_metadata_pb2\u001b[0m\u001b[0;34m.\u001b[0m\u001b[0mSavedMetadata\u001b[0m\u001b[0;34m(\u001b[0m\u001b[0;34m)\u001b[0m\u001b[0;34m\u001b[0m\u001b[0;34m\u001b[0m\u001b[0m\n\u001b[0;32m--> 109\u001b[0;31m   \u001b[0mmeta_graph_def\u001b[0m \u001b[0;34m=\u001b[0m \u001b[0mloader_impl\u001b[0m\u001b[0;34m.\u001b[0m\u001b[0mparse_saved_model\u001b[0m\u001b[0;34m(\u001b[0m\u001b[0mpath\u001b[0m\u001b[0;34m)\u001b[0m\u001b[0;34m.\u001b[0m\u001b[0mmeta_graphs\u001b[0m\u001b[0;34m[\u001b[0m\u001b[0;36m0\u001b[0m\u001b[0;34m]\u001b[0m\u001b[0;34m\u001b[0m\u001b[0;34m\u001b[0m\u001b[0m\n\u001b[0m\u001b[1;32m    110\u001b[0m   \u001b[0mobject_graph_def\u001b[0m \u001b[0;34m=\u001b[0m \u001b[0mmeta_graph_def\u001b[0m\u001b[0;34m.\u001b[0m\u001b[0mobject_graph_def\u001b[0m\u001b[0;34m\u001b[0m\u001b[0;34m\u001b[0m\u001b[0m\n\u001b[1;32m    111\u001b[0m   \u001b[0mpath_to_metadata_pb\u001b[0m \u001b[0;34m=\u001b[0m \u001b[0mos\u001b[0m\u001b[0;34m.\u001b[0m\u001b[0mpath\u001b[0m\u001b[0;34m.\u001b[0m\u001b[0mjoin\u001b[0m\u001b[0;34m(\u001b[0m\u001b[0mpath\u001b[0m\u001b[0;34m,\u001b[0m \u001b[0mconstants\u001b[0m\u001b[0;34m.\u001b[0m\u001b[0mSAVED_METADATA_PATH\u001b[0m\u001b[0;34m)\u001b[0m\u001b[0;34m\u001b[0m\u001b[0;34m\u001b[0m\u001b[0m\n",
            "\u001b[0;32m/usr/local/lib/python3.7/dist-packages/tensorflow/python/saved_model/loader_impl.py\u001b[0m in \u001b[0;36mparse_saved_model\u001b[0;34m(export_dir)\u001b[0m\n\u001b[1;32m    114\u001b[0m         \u001b[0;34m\"SavedModel file does not exist at: %s%s{%s|%s}\"\u001b[0m \u001b[0;34m%\u001b[0m\u001b[0;34m\u001b[0m\u001b[0;34m\u001b[0m\u001b[0m\n\u001b[1;32m    115\u001b[0m         (export_dir, os.path.sep, constants.SAVED_MODEL_FILENAME_PBTXT,\n\u001b[0;32m--> 116\u001b[0;31m          constants.SAVED_MODEL_FILENAME_PB))\n\u001b[0m\u001b[1;32m    117\u001b[0m \u001b[0;34m\u001b[0m\u001b[0m\n\u001b[1;32m    118\u001b[0m \u001b[0;34m\u001b[0m\u001b[0m\n",
            "\u001b[0;31mOSError\u001b[0m: SavedModel file does not exist at: /EmotionDetectionModel.h5/{saved_model.pbtxt|saved_model.pb}"
          ]
        }
      ]
    },
    {
      "cell_type": "code",
      "metadata": {
        "id": "A6BYSSqlTPT_"
      },
      "source": [
        ""
      ],
      "execution_count": null,
      "outputs": []
    }
  ]
}