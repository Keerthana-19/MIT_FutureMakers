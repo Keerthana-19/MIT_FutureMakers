{
  "nbformat": 4,
  "nbformat_minor": 0,
  "metadata": {
    "colab": {
      "name": "Autoencoder Tutorial.ipynb",
      "provenance": [],
      "authorship_tag": "ABX9TyOQivqZbjKhztQam3u6sfra"
    },
    "kernelspec": {
      "name": "python3",
      "display_name": "Python 3"
    },
    "language_info": {
      "name": "python"
    }
  },
  "cells": [
    {
      "cell_type": "code",
      "metadata": {
        "id": "w4vNASUoUFFm"
      },
      "source": [
        "import keras\n",
        "from keras import layers"
      ],
      "execution_count": 1,
      "outputs": []
    },
    {
      "cell_type": "code",
      "metadata": {
        "id": "DFyaIyksUStE"
      },
      "source": [
        "encoding_dim = 32"
      ],
      "execution_count": 2,
      "outputs": []
    },
    {
      "cell_type": "code",
      "metadata": {
        "id": "rPT7sy96UUMi"
      },
      "source": [
        "input_img = keras.Input(shape=(784,))"
      ],
      "execution_count": 3,
      "outputs": []
    },
    {
      "cell_type": "code",
      "metadata": {
        "id": "TLDk-zR7UVT0"
      },
      "source": [
        "encoded = layers.Dense(encoding_dim, activation='relu')(input_img)"
      ],
      "execution_count": 4,
      "outputs": []
    },
    {
      "cell_type": "code",
      "metadata": {
        "id": "iiRXKrwAUWfb"
      },
      "source": [
        "decoded = layers.Dense(784, activation='sigmoid')(encoded)"
      ],
      "execution_count": 6,
      "outputs": []
    },
    {
      "cell_type": "code",
      "metadata": {
        "id": "iasX33nHUXn2"
      },
      "source": [
        "autoencoder = keras.Model(input_img, decoded)"
      ],
      "execution_count": 7,
      "outputs": []
    },
    {
      "cell_type": "code",
      "metadata": {
        "id": "yA0wJMwHUZcf"
      },
      "source": [
        "encoder = keras.Model(input_img, encoded)"
      ],
      "execution_count": 8,
      "outputs": []
    },
    {
      "cell_type": "code",
      "metadata": {
        "id": "edbK9pTBUbJq"
      },
      "source": [
        "encoded_input = keras.Input(shape=(encoding_dim,))"
      ],
      "execution_count": 9,
      "outputs": []
    },
    {
      "cell_type": "code",
      "metadata": {
        "id": "pf4ftJZOUc8v"
      },
      "source": [
        "decoder_layer = autoencoder.layers[-1]"
      ],
      "execution_count": 10,
      "outputs": []
    },
    {
      "cell_type": "code",
      "metadata": {
        "id": "epqy93yNUek5"
      },
      "source": [
        "decoder = keras.Model(encoded_input, decoder_layer(encoded_input))"
      ],
      "execution_count": 11,
      "outputs": []
    },
    {
      "cell_type": "code",
      "metadata": {
        "id": "dkcWSGjWUf8A"
      },
      "source": [
        "autoencoder.compile(optimizer='adam', loss='binary_crossentropy')"
      ],
      "execution_count": 12,
      "outputs": []
    },
    {
      "cell_type": "code",
      "metadata": {
        "id": "mHg5n_i-UkAX"
      },
      "source": [
        "from keras.datasets import mnist\n",
        "import numpy as np"
      ],
      "execution_count": 13,
      "outputs": []
    },
    {
      "cell_type": "code",
      "metadata": {
        "colab": {
          "base_uri": "https://localhost:8080/"
        },
        "id": "s1jhwi8wUm7R",
        "outputId": "725e4678-5d0b-4e07-d839-2a568d19d99a"
      },
      "source": [
        "(x_train, _), (x_test, _) = mnist.load_data()"
      ],
      "execution_count": 14,
      "outputs": [
        {
          "output_type": "stream",
          "text": [
            "Downloading data from https://storage.googleapis.com/tensorflow/tf-keras-datasets/mnist.npz\n",
            "11493376/11490434 [==============================] - 0s 0us/step\n",
            "11501568/11490434 [==============================] - 0s 0us/step\n"
          ],
          "name": "stdout"
        }
      ]
    },
    {
      "cell_type": "code",
      "metadata": {
        "colab": {
          "base_uri": "https://localhost:8080/"
        },
        "id": "T2zKzgHMUnYy",
        "outputId": "fab069a7-58fd-4d27-daa0-a2b9b3879a4b"
      },
      "source": [
        "x_train = x_train.astype('float32') / 255.\n",
        "x_test = x_test.astype('float32') / 255.\n",
        "x_train = x_train.reshape((len(x_train), np.prod(x_train.shape[1:])))\n",
        "x_test = x_test.reshape((len(x_test), np.prod(x_test.shape[1:])))\n",
        "print(x_train.shape)\n",
        "print(x_test.shape)"
      ],
      "execution_count": 15,
      "outputs": [
        {
          "output_type": "stream",
          "text": [
            "(60000, 784)\n",
            "(10000, 784)\n"
          ],
          "name": "stdout"
        }
      ]
    },
    {
      "cell_type": "code",
      "metadata": {
        "colab": {
          "base_uri": "https://localhost:8080/"
        },
        "id": "A-dQO9jOUpNm",
        "outputId": "ed9075ac-02c0-4744-a792-b4cf9f99a8d2"
      },
      "source": [
        "autoencoder.fit(x_train, x_train,\n",
        "                epochs=50,\n",
        "                batch_size=256,\n",
        "                shuffle=True,\n",
        "                validation_data=(x_test, x_test))"
      ],
      "execution_count": 16,
      "outputs": [
        {
          "output_type": "stream",
          "text": [
            "Epoch 1/50\n",
            "235/235 [==============================] - 16s 11ms/step - loss: 0.3885 - val_loss: 0.1889\n",
            "Epoch 2/50\n",
            "235/235 [==============================] - 2s 10ms/step - loss: 0.1803 - val_loss: 0.1547\n",
            "Epoch 3/50\n",
            "235/235 [==============================] - 2s 10ms/step - loss: 0.1504 - val_loss: 0.1344\n",
            "Epoch 4/50\n",
            "235/235 [==============================] - 2s 10ms/step - loss: 0.1319 - val_loss: 0.1213\n",
            "Epoch 5/50\n",
            "235/235 [==============================] - 2s 10ms/step - loss: 0.1203 - val_loss: 0.1131\n",
            "Epoch 6/50\n",
            "235/235 [==============================] - 2s 10ms/step - loss: 0.1130 - val_loss: 0.1075\n",
            "Epoch 7/50\n",
            "235/235 [==============================] - 2s 10ms/step - loss: 0.1078 - val_loss: 0.1031\n",
            "Epoch 8/50\n",
            "235/235 [==============================] - 2s 10ms/step - loss: 0.1035 - val_loss: 0.0998\n",
            "Epoch 9/50\n",
            "235/235 [==============================] - 2s 10ms/step - loss: 0.1004 - val_loss: 0.0975\n",
            "Epoch 10/50\n",
            "235/235 [==============================] - 2s 10ms/step - loss: 0.0982 - val_loss: 0.0957\n",
            "Epoch 11/50\n",
            "235/235 [==============================] - 2s 10ms/step - loss: 0.0965 - val_loss: 0.0946\n",
            "Epoch 12/50\n",
            "235/235 [==============================] - 2s 10ms/step - loss: 0.0956 - val_loss: 0.0940\n",
            "Epoch 13/50\n",
            "235/235 [==============================] - 2s 10ms/step - loss: 0.0950 - val_loss: 0.0934\n",
            "Epoch 14/50\n",
            "235/235 [==============================] - 2s 10ms/step - loss: 0.0945 - val_loss: 0.0932\n",
            "Epoch 15/50\n",
            "235/235 [==============================] - 2s 9ms/step - loss: 0.0943 - val_loss: 0.0929\n",
            "Epoch 16/50\n",
            "235/235 [==============================] - 2s 10ms/step - loss: 0.0942 - val_loss: 0.0928\n",
            "Epoch 17/50\n",
            "235/235 [==============================] - 2s 9ms/step - loss: 0.0939 - val_loss: 0.0925\n",
            "Epoch 18/50\n",
            "235/235 [==============================] - 2s 10ms/step - loss: 0.0936 - val_loss: 0.0925\n",
            "Epoch 19/50\n",
            "235/235 [==============================] - 2s 10ms/step - loss: 0.0937 - val_loss: 0.0924\n",
            "Epoch 20/50\n",
            "235/235 [==============================] - 2s 10ms/step - loss: 0.0937 - val_loss: 0.0923\n",
            "Epoch 21/50\n",
            "235/235 [==============================] - 2s 10ms/step - loss: 0.0936 - val_loss: 0.0923\n",
            "Epoch 22/50\n",
            "235/235 [==============================] - 2s 10ms/step - loss: 0.0934 - val_loss: 0.0923\n",
            "Epoch 23/50\n",
            "235/235 [==============================] - 2s 10ms/step - loss: 0.0933 - val_loss: 0.0921\n",
            "Epoch 24/50\n",
            "235/235 [==============================] - 2s 10ms/step - loss: 0.0934 - val_loss: 0.0921\n",
            "Epoch 25/50\n",
            "235/235 [==============================] - 2s 10ms/step - loss: 0.0934 - val_loss: 0.0920\n",
            "Epoch 26/50\n",
            "235/235 [==============================] - 2s 10ms/step - loss: 0.0932 - val_loss: 0.0920\n",
            "Epoch 27/50\n",
            "235/235 [==============================] - 2s 10ms/step - loss: 0.0931 - val_loss: 0.0920\n",
            "Epoch 28/50\n",
            "235/235 [==============================] - 2s 10ms/step - loss: 0.0931 - val_loss: 0.0920\n",
            "Epoch 29/50\n",
            "235/235 [==============================] - 2s 10ms/step - loss: 0.0930 - val_loss: 0.0920\n",
            "Epoch 30/50\n",
            "235/235 [==============================] - 2s 10ms/step - loss: 0.0929 - val_loss: 0.0919\n",
            "Epoch 31/50\n",
            "235/235 [==============================] - 2s 10ms/step - loss: 0.0930 - val_loss: 0.0918\n",
            "Epoch 32/50\n",
            "235/235 [==============================] - 2s 10ms/step - loss: 0.0929 - val_loss: 0.0919\n",
            "Epoch 33/50\n",
            "235/235 [==============================] - 2s 10ms/step - loss: 0.0931 - val_loss: 0.0918\n",
            "Epoch 34/50\n",
            "235/235 [==============================] - 2s 10ms/step - loss: 0.0930 - val_loss: 0.0918\n",
            "Epoch 35/50\n",
            "235/235 [==============================] - 2s 10ms/step - loss: 0.0929 - val_loss: 0.0918\n",
            "Epoch 36/50\n",
            "235/235 [==============================] - 2s 10ms/step - loss: 0.0930 - val_loss: 0.0918\n",
            "Epoch 37/50\n",
            "235/235 [==============================] - 2s 10ms/step - loss: 0.0927 - val_loss: 0.0918\n",
            "Epoch 38/50\n",
            "235/235 [==============================] - 2s 10ms/step - loss: 0.0929 - val_loss: 0.0919\n",
            "Epoch 39/50\n",
            "235/235 [==============================] - 2s 10ms/step - loss: 0.0925 - val_loss: 0.0919\n",
            "Epoch 40/50\n",
            "235/235 [==============================] - 2s 10ms/step - loss: 0.0929 - val_loss: 0.0917\n",
            "Epoch 41/50\n",
            "235/235 [==============================] - 2s 10ms/step - loss: 0.0929 - val_loss: 0.0918\n",
            "Epoch 42/50\n",
            "235/235 [==============================] - 2s 10ms/step - loss: 0.0928 - val_loss: 0.0917\n",
            "Epoch 43/50\n",
            "235/235 [==============================] - 2s 10ms/step - loss: 0.0927 - val_loss: 0.0916\n",
            "Epoch 44/50\n",
            "235/235 [==============================] - 2s 10ms/step - loss: 0.0928 - val_loss: 0.0917\n",
            "Epoch 45/50\n",
            "235/235 [==============================] - 2s 10ms/step - loss: 0.0928 - val_loss: 0.0917\n",
            "Epoch 46/50\n",
            "235/235 [==============================] - 2s 10ms/step - loss: 0.0926 - val_loss: 0.0917\n",
            "Epoch 47/50\n",
            "235/235 [==============================] - 2s 10ms/step - loss: 0.0927 - val_loss: 0.0917\n",
            "Epoch 48/50\n",
            "235/235 [==============================] - 2s 10ms/step - loss: 0.0926 - val_loss: 0.0917\n",
            "Epoch 49/50\n",
            "235/235 [==============================] - 2s 10ms/step - loss: 0.0926 - val_loss: 0.0918\n",
            "Epoch 50/50\n",
            "235/235 [==============================] - 2s 10ms/step - loss: 0.0925 - val_loss: 0.0916\n"
          ],
          "name": "stdout"
        },
        {
          "output_type": "execute_result",
          "data": {
            "text/plain": [
              "<keras.callbacks.History at 0x7f0e6ca067d0>"
            ]
          },
          "metadata": {
            "tags": []
          },
          "execution_count": 16
        }
      ]
    },
    {
      "cell_type": "code",
      "metadata": {
        "id": "IfwNhKMZUqZO"
      },
      "source": [
        "encoded_imgs = encoder.predict(x_test)\n",
        "decoded_imgs = decoder.predict(encoded_imgs)"
      ],
      "execution_count": 17,
      "outputs": []
    },
    {
      "cell_type": "code",
      "metadata": {
        "id": "Zm9V7uFaUsnq"
      },
      "source": [
        "import matplotlib.pyplot as plt"
      ],
      "execution_count": 18,
      "outputs": []
    },
    {
      "cell_type": "code",
      "metadata": {
        "colab": {
          "base_uri": "https://localhost:8080/",
          "height": 248
        },
        "id": "cf6n8tREUu1t",
        "outputId": "ac54d9ed-e415-45dc-e008-7117b9685ec8"
      },
      "source": [
        "n = 10\n",
        "\n",
        "plt.figure(figsize=(20, 4))\n",
        "for i in range(n):\n",
        "  ax = plt.subplot(2, n, i + 1)\n",
        "  plt.imshow(x_test[i].reshape(28, 28))\n",
        "  plt.gray()\n",
        "  ax.get_xaxis().set_visible(False)\n",
        "  ax.get_yaxis().set_visible(False)\n",
        "\n",
        "  ax = plt.subplot(2, n, i + 1 + n)\n",
        "  plt.imshow(decoded_imgs[i].reshape(28, 28))\n",
        "  plt.gray()\n",
        "  ax.get_xaxis().set_visible(False)\n",
        "  ax.get_yaxis().set_visible(False)\n",
        "\n",
        "plt.show()"
      ],
      "execution_count": 19,
      "outputs": [
        {
          "output_type": "display_data",
          "data": {
            "image/png": "[encoded data removed]",
            "text/plain": [
              "<Figure size 1440x288 with 20 Axes>"
            ]
          },
          "metadata": {
            "tags": [],
            "needs_background": "light"
          }
        }
      ]
    },
    {
      "cell_type": "code",
      "metadata": {
        "id": "EMZlQI0PVAV-"
      },
      "source": [
        "from keras import regularizers"
      ],
      "execution_count": 20,
      "outputs": []
    },
    {
      "cell_type": "code",
      "metadata": {
        "id": "yjD6KosDVHwS"
      },
      "source": [
        "encoding_dim = 32"
      ],
      "execution_count": 21,
      "outputs": []
    },
    {
      "cell_type": "code",
      "metadata": {
        "id": "G4ke-EuJVUG4"
      },
      "source": [
        "input_img = keras.Input(shape=(784,))"
      ],
      "execution_count": 22,
      "outputs": []
    },
    {
      "cell_type": "code",
      "metadata": {
        "id": "JOB-Pt2CVVWi"
      },
      "source": [
        "encoded = layers.Dense(encoding_dim, activation='relu',\n",
        "                activity_regularizer=regularizers.l1(10e-5))(input_img)"
      ],
      "execution_count": 23,
      "outputs": []
    },
    {
      "cell_type": "code",
      "metadata": {
        "id": "BKIJgUusVXwD"
      },
      "source": [
        "decoded = layers.Dense(784, activation='sigmoid')(encoded)"
      ],
      "execution_count": 24,
      "outputs": []
    },
    {
      "cell_type": "code",
      "metadata": {
        "id": "sukS1SOjVacT"
      },
      "source": [
        "autoencoder = keras.Model(input_img, decoded)"
      ],
      "execution_count": 25,
      "outputs": []
    },
    {
      "cell_type": "code",
      "metadata": {
        "id": "DeQ0tWQ4VqAr"
      },
      "source": [
        "input_img = keras.Input(shape=(784,))\n",
        "encoded = layers.Dense(128, activation='relu')(input_img)\n",
        "encoded = layers.Dense(64, activation='relu')(encoded)\n",
        "encoded = layers.Dense(32, activation='relu')(encoded)\n",
        "\n",
        "decoded = layers.Dense(64, activation='relu')(encoded)\n",
        "decoded = layers.Dense(128, activation='relu')(decoded)\n",
        "decoded = layers.Dense(784, activation='sigmoid')(decoded)"
      ],
      "execution_count": 28,
      "outputs": []
    },
    {
      "cell_type": "code",
      "metadata": {
        "colab": {
          "base_uri": "https://localhost:8080/"
        },
        "id": "HmPTiKedVbgk",
        "outputId": "d400625a-5c11-4cba-847a-6bde9c0f8609"
      },
      "source": [
        "autoencoder = keras.Model(input_img, decoded)\n",
        "autoencoder.compile(optimizer='adam', loss='binary_crossentropy')\n",
        "\n",
        "autoencoder.fit(x_train, x_train,\n",
        "                epochs=100,\n",
        "                batch_size=256,\n",
        "                shuffle=True,\n",
        "                validation_data=(x_test, x_test))"
      ],
      "execution_count": 29,
      "outputs": [
        {
          "output_type": "stream",
          "text": [
            "Epoch 1/100\n",
            "235/235 [==============================] - 5s 16ms/step - loss: 0.3405 - val_loss: 0.1681\n",
            "Epoch 2/100\n",
            "235/235 [==============================] - 4s 15ms/step - loss: 0.1577 - val_loss: 0.1332\n",
            "Epoch 3/100\n",
            "235/235 [==============================] - 4s 15ms/step - loss: 0.1316 - val_loss: 0.1227\n",
            "Epoch 4/100\n",
            "235/235 [==============================] - 4s 15ms/step - loss: 0.1221 - val_loss: 0.1172\n",
            "Epoch 5/100\n",
            "235/235 [==============================] - 4s 16ms/step - loss: 0.1173 - val_loss: 0.1119\n",
            "Epoch 6/100\n",
            "235/235 [==============================] - 4s 16ms/step - loss: 0.1123 - val_loss: 0.1084\n",
            "Epoch 7/100\n",
            "235/235 [==============================] - 4s 15ms/step - loss: 0.1082 - val_loss: 0.1055\n",
            "Epoch 8/100\n",
            "235/235 [==============================] - 4s 15ms/step - loss: 0.1059 - val_loss: 0.1033\n",
            "Epoch 9/100\n",
            "235/235 [==============================] - 4s 15ms/step - loss: 0.1036 - val_loss: 0.1014\n",
            "Epoch 10/100\n",
            "235/235 [==============================] - 4s 15ms/step - loss: 0.1021 - val_loss: 0.0993\n",
            "Epoch 11/100\n",
            "235/235 [==============================] - 4s 15ms/step - loss: 0.1001 - val_loss: 0.0982\n",
            "Epoch 12/100\n",
            "235/235 [==============================] - 4s 15ms/step - loss: 0.0989 - val_loss: 0.0971\n",
            "Epoch 13/100\n",
            "235/235 [==============================] - 4s 16ms/step - loss: 0.0977 - val_loss: 0.0963\n",
            "Epoch 14/100\n",
            "235/235 [==============================] - 4s 15ms/step - loss: 0.0967 - val_loss: 0.0955\n",
            "Epoch 15/100\n",
            "235/235 [==============================] - 4s 16ms/step - loss: 0.0959 - val_loss: 0.0944\n",
            "Epoch 16/100\n",
            "235/235 [==============================] - 4s 16ms/step - loss: 0.0948 - val_loss: 0.0933\n",
            "Epoch 17/100\n",
            "235/235 [==============================] - 4s 15ms/step - loss: 0.0943 - val_loss: 0.0931\n",
            "Epoch 18/100\n",
            "235/235 [==============================] - 4s 15ms/step - loss: 0.0934 - val_loss: 0.0923\n",
            "Epoch 19/100\n",
            "235/235 [==============================] - 4s 15ms/step - loss: 0.0930 - val_loss: 0.0918\n",
            "Epoch 20/100\n",
            "235/235 [==============================] - 4s 15ms/step - loss: 0.0924 - val_loss: 0.0914\n",
            "Epoch 21/100\n",
            "235/235 [==============================] - 4s 15ms/step - loss: 0.0920 - val_loss: 0.0908\n",
            "Epoch 22/100\n",
            "235/235 [==============================] - 4s 16ms/step - loss: 0.0917 - val_loss: 0.0904\n",
            "Epoch 23/100\n",
            "235/235 [==============================] - 4s 15ms/step - loss: 0.0910 - val_loss: 0.0901\n",
            "Epoch 24/100\n",
            "235/235 [==============================] - 4s 15ms/step - loss: 0.0907 - val_loss: 0.0897\n",
            "Epoch 25/100\n",
            "235/235 [==============================] - 4s 15ms/step - loss: 0.0903 - val_loss: 0.0894\n",
            "Epoch 26/100\n",
            "235/235 [==============================] - 4s 15ms/step - loss: 0.0899 - val_loss: 0.0891\n",
            "Epoch 27/100\n",
            "235/235 [==============================] - 4s 15ms/step - loss: 0.0894 - val_loss: 0.0886\n",
            "Epoch 28/100\n",
            "235/235 [==============================] - 4s 16ms/step - loss: 0.0889 - val_loss: 0.0880\n",
            "Epoch 29/100\n",
            "235/235 [==============================] - 4s 15ms/step - loss: 0.0884 - val_loss: 0.0877\n",
            "Epoch 30/100\n",
            "235/235 [==============================] - 4s 15ms/step - loss: 0.0880 - val_loss: 0.0870\n",
            "Epoch 31/100\n",
            "235/235 [==============================] - 4s 15ms/step - loss: 0.0875 - val_loss: 0.0869\n",
            "Epoch 32/100\n",
            "235/235 [==============================] - 4s 15ms/step - loss: 0.0874 - val_loss: 0.0865\n",
            "Epoch 33/100\n",
            "235/235 [==============================] - 4s 15ms/step - loss: 0.0869 - val_loss: 0.0862\n",
            "Epoch 34/100\n",
            "235/235 [==============================] - 4s 15ms/step - loss: 0.0869 - val_loss: 0.0863\n",
            "Epoch 35/100\n",
            "235/235 [==============================] - 4s 15ms/step - loss: 0.0866 - val_loss: 0.0860\n",
            "Epoch 36/100\n",
            "235/235 [==============================] - 4s 16ms/step - loss: 0.0863 - val_loss: 0.0862\n",
            "Epoch 37/100\n",
            "235/235 [==============================] - 4s 15ms/step - loss: 0.0860 - val_loss: 0.0854\n",
            "Epoch 38/100\n",
            "235/235 [==============================] - 4s 15ms/step - loss: 0.0858 - val_loss: 0.0853\n",
            "Epoch 39/100\n",
            "235/235 [==============================] - 4s 15ms/step - loss: 0.0856 - val_loss: 0.0848\n",
            "Epoch 40/100\n",
            "235/235 [==============================] - 4s 15ms/step - loss: 0.0853 - val_loss: 0.0848\n",
            "Epoch 41/100\n",
            "235/235 [==============================] - 4s 15ms/step - loss: 0.0851 - val_loss: 0.0845\n",
            "Epoch 42/100\n",
            "235/235 [==============================] - 4s 15ms/step - loss: 0.0851 - val_loss: 0.0847\n",
            "Epoch 43/100\n",
            "235/235 [==============================] - 4s 15ms/step - loss: 0.0849 - val_loss: 0.0845\n",
            "Epoch 44/100\n",
            "235/235 [==============================] - 4s 15ms/step - loss: 0.0846 - val_loss: 0.0842\n",
            "Epoch 45/100\n",
            "235/235 [==============================] - 4s 15ms/step - loss: 0.0844 - val_loss: 0.0837\n",
            "Epoch 46/100\n",
            "235/235 [==============================] - 4s 15ms/step - loss: 0.0842 - val_loss: 0.0840\n",
            "Epoch 47/100\n",
            "235/235 [==============================] - 4s 15ms/step - loss: 0.0840 - val_loss: 0.0837\n",
            "Epoch 48/100\n",
            "235/235 [==============================] - 4s 15ms/step - loss: 0.0842 - val_loss: 0.0836\n",
            "Epoch 49/100\n",
            "235/235 [==============================] - 4s 15ms/step - loss: 0.0839 - val_loss: 0.0836\n",
            "Epoch 50/100\n",
            "235/235 [==============================] - 4s 16ms/step - loss: 0.0839 - val_loss: 0.0831\n",
            "Epoch 51/100\n",
            "235/235 [==============================] - 4s 15ms/step - loss: 0.0837 - val_loss: 0.0832\n",
            "Epoch 52/100\n",
            "235/235 [==============================] - 4s 15ms/step - loss: 0.0835 - val_loss: 0.0833\n",
            "Epoch 53/100\n",
            "235/235 [==============================] - 4s 15ms/step - loss: 0.0834 - val_loss: 0.0831\n",
            "Epoch 54/100\n",
            "235/235 [==============================] - 4s 15ms/step - loss: 0.0835 - val_loss: 0.0837\n",
            "Epoch 55/100\n",
            "235/235 [==============================] - 4s 15ms/step - loss: 0.0834 - val_loss: 0.0833\n",
            "Epoch 56/100\n",
            "235/235 [==============================] - 4s 15ms/step - loss: 0.0832 - val_loss: 0.0828\n",
            "Epoch 57/100\n",
            "235/235 [==============================] - 4s 15ms/step - loss: 0.0833 - val_loss: 0.0827\n",
            "Epoch 58/100\n",
            "235/235 [==============================] - 4s 15ms/step - loss: 0.0831 - val_loss: 0.0828\n",
            "Epoch 59/100\n",
            "235/235 [==============================] - 4s 15ms/step - loss: 0.0831 - val_loss: 0.0828\n",
            "Epoch 60/100\n",
            "235/235 [==============================] - 4s 15ms/step - loss: 0.0831 - val_loss: 0.0828\n",
            "Epoch 61/100\n",
            "235/235 [==============================] - 4s 15ms/step - loss: 0.0828 - val_loss: 0.0825\n",
            "Epoch 62/100\n",
            "235/235 [==============================] - 4s 15ms/step - loss: 0.0828 - val_loss: 0.0827\n",
            "Epoch 63/100\n",
            "235/235 [==============================] - 4s 15ms/step - loss: 0.0828 - val_loss: 0.0823\n",
            "Epoch 64/100\n",
            "235/235 [==============================] - 4s 15ms/step - loss: 0.0829 - val_loss: 0.0824\n",
            "Epoch 65/100\n",
            "235/235 [==============================] - 4s 15ms/step - loss: 0.0826 - val_loss: 0.0824\n",
            "Epoch 66/100\n",
            "235/235 [==============================] - 4s 15ms/step - loss: 0.0825 - val_loss: 0.0824\n",
            "Epoch 67/100\n",
            "235/235 [==============================] - 4s 16ms/step - loss: 0.0826 - val_loss: 0.0826\n",
            "Epoch 68/100\n",
            "235/235 [==============================] - 4s 15ms/step - loss: 0.0825 - val_loss: 0.0822\n",
            "Epoch 69/100\n",
            "235/235 [==============================] - 4s 15ms/step - loss: 0.0823 - val_loss: 0.0826\n",
            "Epoch 70/100\n",
            "235/235 [==============================] - 4s 15ms/step - loss: 0.0825 - val_loss: 0.0821\n",
            "Epoch 71/100\n",
            "235/235 [==============================] - 4s 15ms/step - loss: 0.0822 - val_loss: 0.0821\n",
            "Epoch 72/100\n",
            "235/235 [==============================] - 4s 16ms/step - loss: 0.0823 - val_loss: 0.0822\n",
            "Epoch 73/100\n",
            "235/235 [==============================] - 4s 15ms/step - loss: 0.0823 - val_loss: 0.0821\n",
            "Epoch 74/100\n",
            "235/235 [==============================] - 4s 15ms/step - loss: 0.0822 - val_loss: 0.0822\n",
            "Epoch 75/100\n",
            "235/235 [==============================] - 4s 15ms/step - loss: 0.0822 - val_loss: 0.0820\n",
            "Epoch 76/100\n",
            "235/235 [==============================] - 4s 15ms/step - loss: 0.0821 - val_loss: 0.0820\n",
            "Epoch 77/100\n",
            "235/235 [==============================] - 4s 15ms/step - loss: 0.0821 - val_loss: 0.0822\n",
            "Epoch 78/100\n",
            "235/235 [==============================] - 4s 15ms/step - loss: 0.0821 - val_loss: 0.0817\n",
            "Epoch 79/100\n",
            "235/235 [==============================] - 4s 15ms/step - loss: 0.0821 - val_loss: 0.0818\n",
            "Epoch 80/100\n",
            "235/235 [==============================] - 4s 15ms/step - loss: 0.0819 - val_loss: 0.0819\n",
            "Epoch 81/100\n",
            "235/235 [==============================] - 4s 15ms/step - loss: 0.0819 - val_loss: 0.0819\n",
            "Epoch 82/100\n",
            "235/235 [==============================] - 4s 15ms/step - loss: 0.0819 - val_loss: 0.0819\n",
            "Epoch 83/100\n",
            "235/235 [==============================] - 4s 15ms/step - loss: 0.0819 - val_loss: 0.0815\n",
            "Epoch 84/100\n",
            "235/235 [==============================] - 4s 15ms/step - loss: 0.0816 - val_loss: 0.0817\n",
            "Epoch 85/100\n",
            "235/235 [==============================] - 4s 15ms/step - loss: 0.0818 - val_loss: 0.0817\n",
            "Epoch 86/100\n",
            "235/235 [==============================] - 4s 15ms/step - loss: 0.0816 - val_loss: 0.0814\n",
            "Epoch 87/100\n",
            "235/235 [==============================] - 4s 15ms/step - loss: 0.0817 - val_loss: 0.0815\n",
            "Epoch 88/100\n",
            "235/235 [==============================] - 4s 15ms/step - loss: 0.0817 - val_loss: 0.0817\n",
            "Epoch 89/100\n",
            "235/235 [==============================] - 4s 15ms/step - loss: 0.0816 - val_loss: 0.0814\n",
            "Epoch 90/100\n",
            "235/235 [==============================] - 4s 15ms/step - loss: 0.0816 - val_loss: 0.0814\n",
            "Epoch 91/100\n",
            "235/235 [==============================] - 4s 15ms/step - loss: 0.0817 - val_loss: 0.0812\n",
            "Epoch 92/100\n",
            "235/235 [==============================] - 4s 15ms/step - loss: 0.0815 - val_loss: 0.0812\n",
            "Epoch 93/100\n",
            "235/235 [==============================] - 4s 15ms/step - loss: 0.0813 - val_loss: 0.0813\n",
            "Epoch 94/100\n",
            "235/235 [==============================] - 4s 15ms/step - loss: 0.0812 - val_loss: 0.0813\n",
            "Epoch 95/100\n",
            "235/235 [==============================] - 4s 15ms/step - loss: 0.0813 - val_loss: 0.0812\n",
            "Epoch 96/100\n",
            "235/235 [==============================] - 4s 15ms/step - loss: 0.0814 - val_loss: 0.0812\n",
            "Epoch 97/100\n",
            "235/235 [==============================] - 4s 15ms/step - loss: 0.0813 - val_loss: 0.0812\n",
            "Epoch 98/100\n",
            "235/235 [==============================] - 4s 15ms/step - loss: 0.0813 - val_loss: 0.0812\n",
            "Epoch 99/100\n",
            "235/235 [==============================] - 4s 15ms/step - loss: 0.0813 - val_loss: 0.0811\n",
            "Epoch 100/100\n",
            "235/235 [==============================] - 4s 15ms/step - loss: 0.0810 - val_loss: 0.0809\n"
          ],
          "name": "stdout"
        },
        {
          "output_type": "execute_result",
          "data": {
            "text/plain": [
              "<keras.callbacks.History at 0x7f0e67bde0d0>"
            ]
          },
          "metadata": {
            "tags": []
          },
          "execution_count": 29
        }
      ]
    },
    {
      "cell_type": "markdown",
      "metadata": {
        "id": "1FzRB0e0V3_n"
      },
      "source": [
        "Convolutional Autoencoder"
      ]
    },
    {
      "cell_type": "code",
      "metadata": {
        "id": "6Vqy1JsTVj6d"
      },
      "source": [
        "input_img = keras.Input(shape=(28, 28, 1))\n",
        "\n",
        "x = layers.Conv2D(16, (3, 3), activation='relu', padding='same')(input_img)\n",
        "x = layers.MaxPooling2D((2, 2), padding='same')(x)\n",
        "x = layers.Conv2D(8, (3, 3), activation='relu', padding='same')(x)\n",
        "x = layers.MaxPooling2D((2, 2), padding='same')(x)\n",
        "x = layers.Conv2D(8, (3, 3), activation='relu', padding='same')(x)\n",
        "encoded = layers.MaxPooling2D((2, 2), padding='same')(x)\n"
      ],
      "execution_count": 30,
      "outputs": []
    },
    {
      "cell_type": "code",
      "metadata": {
        "id": "OCN3O-MfV-HM"
      },
      "source": [
        "x = layers.Conv2D(8, (3, 3), activation='relu', padding='same')(encoded)\n",
        "x = layers.UpSampling2D((2, 2))(x)\n",
        "x = layers.Conv2D(8, (3, 3), activation='relu', padding='same')(x)\n",
        "x = layers.UpSampling2D((2, 2))(x)\n",
        "x = layers.Conv2D(16, (3, 3), activation='relu')(x)\n",
        "x = layers.UpSampling2D((2, 2))(x)\n",
        "decoded = layers.Conv2D(1, (3, 3), activation='sigmoid', padding='same')(x)"
      ],
      "execution_count": 31,
      "outputs": []
    },
    {
      "cell_type": "code",
      "metadata": {
        "id": "lNaOPMBBV_dz"
      },
      "source": [
        "autoencoder = keras.Model(input_img, decoded)\n",
        "autoencoder.compile(optimizer='adam', loss='binary_crossentropy')"
      ],
      "execution_count": 32,
      "outputs": []
    },
    {
      "cell_type": "code",
      "metadata": {
        "id": "pkvTE-S1WAyb"
      },
      "source": [
        "(x_train, _), (x_test, _) = mnist.load_data()"
      ],
      "execution_count": 33,
      "outputs": []
    },
    {
      "cell_type": "code",
      "metadata": {
        "id": "YrlpAeKFWCfz"
      },
      "source": [
        "x_train = x_train.astype('float32') / 255.\n",
        "x_test = x_test.astype('float32') / 255.\n",
        "x_train = np.reshape(x_train, (len(x_train), 28, 28, 1))\n",
        "x_test = np.reshape(x_test, (len(x_test), 28, 28, 1))"
      ],
      "execution_count": 34,
      "outputs": []
    },
    {
      "cell_type": "code",
      "metadata": {
        "id": "oj-wNPdvWG5Q"
      },
      "source": [
        "from keras.callbacks import TensorBoard"
      ],
      "execution_count": 36,
      "outputs": []
    },
    {
      "cell_type": "code",
      "metadata": {
        "colab": {
          "base_uri": "https://localhost:8080/"
        },
        "id": "zQfa0yuzWJVG",
        "outputId": "52101bd0-cfbe-4043-db84-cf35052eb80e"
      },
      "source": [
        "autoencoder.fit(x_train, x_train,\n",
        "                epochs=50,\n",
        "                batch_size=128,\n",
        "                shuffle=True,\n",
        "                validation_data=(x_test, x_test),\n",
        "                callbacks=[TensorBoard(log_dir='/tmp/autoencoder')])"
      ],
      "execution_count": 37,
      "outputs": [
        {
          "output_type": "stream",
          "text": [
            "Epoch 1/50\n",
            "469/469 [==============================] - 71s 145ms/step - loss: 0.3272 - val_loss: 0.1517\n",
            "Epoch 2/50\n",
            "469/469 [==============================] - 68s 145ms/step - loss: 0.1471 - val_loss: 0.1329\n",
            "Epoch 3/50\n",
            "469/469 [==============================] - 70s 150ms/step - loss: 0.1311 - val_loss: 0.1228\n",
            "Epoch 4/50\n",
            "469/469 [==============================] - 68s 145ms/step - loss: 0.1218 - val_loss: 0.1176\n",
            "Epoch 5/50\n",
            "469/469 [==============================] - 68s 146ms/step - loss: 0.1165 - val_loss: 0.1131\n",
            "Epoch 6/50\n",
            "469/469 [==============================] - 69s 146ms/step - loss: 0.1132 - val_loss: 0.1099\n",
            "Epoch 7/50\n",
            "469/469 [==============================] - 71s 151ms/step - loss: 0.1103 - val_loss: 0.1075\n",
            "Epoch 8/50\n",
            "469/469 [==============================] - 69s 146ms/step - loss: 0.1084 - val_loss: 0.1060\n",
            "Epoch 9/50\n",
            "469/469 [==============================] - 69s 147ms/step - loss: 0.1066 - val_loss: 0.1047\n",
            "Epoch 10/50\n",
            "469/469 [==============================] - 69s 147ms/step - loss: 0.1057 - val_loss: 0.1036\n",
            "Epoch 11/50\n",
            "469/469 [==============================] - 69s 146ms/step - loss: 0.1048 - val_loss: 0.1026\n",
            "Epoch 12/50\n",
            "469/469 [==============================] - 71s 151ms/step - loss: 0.1037 - val_loss: 0.1017\n",
            "Epoch 13/50\n",
            "469/469 [==============================] - 71s 151ms/step - loss: 0.1028 - val_loss: 0.1015\n",
            "Epoch 14/50\n",
            "469/469 [==============================] - 69s 147ms/step - loss: 0.1021 - val_loss: 0.1008\n",
            "Epoch 15/50\n",
            "469/469 [==============================] - 71s 152ms/step - loss: 0.1016 - val_loss: 0.1000\n",
            "Epoch 16/50\n",
            "469/469 [==============================] - 69s 148ms/step - loss: 0.1009 - val_loss: 0.0993\n",
            "Epoch 17/50\n",
            "469/469 [==============================] - 69s 147ms/step - loss: 0.1008 - val_loss: 0.0989\n",
            "Epoch 18/50\n",
            "469/469 [==============================] - 69s 148ms/step - loss: 0.1000 - val_loss: 0.0991\n",
            "Epoch 19/50\n",
            "469/469 [==============================] - 70s 148ms/step - loss: 0.0995 - val_loss: 0.0989\n",
            "Epoch 20/50\n",
            "469/469 [==============================] - 70s 149ms/step - loss: 0.0996 - val_loss: 0.0982\n",
            "Epoch 21/50\n",
            "469/469 [==============================] - 69s 148ms/step - loss: 0.0990 - val_loss: 0.0975\n",
            "Epoch 22/50\n",
            "469/469 [==============================] - 69s 147ms/step - loss: 0.0986 - val_loss: 0.0971\n",
            "Epoch 23/50\n",
            "469/469 [==============================] - 69s 148ms/step - loss: 0.0984 - val_loss: 0.0969\n",
            "Epoch 24/50\n",
            "469/469 [==============================] - 69s 148ms/step - loss: 0.0981 - val_loss: 0.0965\n",
            "Epoch 25/50\n",
            "469/469 [==============================] - 69s 147ms/step - loss: 0.0977 - val_loss: 0.0963\n",
            "Epoch 26/50\n",
            "469/469 [==============================] - 69s 148ms/step - loss: 0.0976 - val_loss: 0.0965\n",
            "Epoch 27/50\n",
            "469/469 [==============================] - 69s 148ms/step - loss: 0.0970 - val_loss: 0.0957\n",
            "Epoch 28/50\n",
            "469/469 [==============================] - 71s 152ms/step - loss: 0.0968 - val_loss: 0.0955\n",
            "Epoch 29/50\n",
            "469/469 [==============================] - 71s 152ms/step - loss: 0.0969 - val_loss: 0.0956\n",
            "Epoch 30/50\n",
            "469/469 [==============================] - 69s 148ms/step - loss: 0.0966 - val_loss: 0.0954\n",
            "Epoch 31/50\n",
            "469/469 [==============================] - 71s 152ms/step - loss: 0.0965 - val_loss: 0.0949\n",
            "Epoch 32/50\n",
            "469/469 [==============================] - 69s 147ms/step - loss: 0.0960 - val_loss: 0.0947\n",
            "Epoch 33/50\n",
            "469/469 [==============================] - 71s 152ms/step - loss: 0.0958 - val_loss: 0.0945\n",
            "Epoch 34/50\n",
            "469/469 [==============================] - 69s 147ms/step - loss: 0.0957 - val_loss: 0.0944\n",
            "Epoch 35/50\n",
            "469/469 [==============================] - 69s 147ms/step - loss: 0.0958 - val_loss: 0.0941\n",
            "Epoch 36/50\n",
            "469/469 [==============================] - 69s 147ms/step - loss: 0.0952 - val_loss: 0.0942\n",
            "Epoch 37/50\n",
            "469/469 [==============================] - 69s 147ms/step - loss: 0.0956 - val_loss: 0.0944\n",
            "Epoch 38/50\n",
            "469/469 [==============================] - 69s 148ms/step - loss: 0.0949 - val_loss: 0.0936\n",
            "Epoch 39/50\n",
            "469/469 [==============================] - 69s 148ms/step - loss: 0.0950 - val_loss: 0.0935\n",
            "Epoch 40/50\n",
            "469/469 [==============================] - 72s 153ms/step - loss: 0.0946 - val_loss: 0.0933\n",
            "Epoch 41/50\n",
            "469/469 [==============================] - 69s 148ms/step - loss: 0.0945 - val_loss: 0.0934\n",
            "Epoch 42/50\n",
            "469/469 [==============================] - 70s 148ms/step - loss: 0.0943 - val_loss: 0.0930\n",
            "Epoch 43/50\n",
            "469/469 [==============================] - 71s 152ms/step - loss: 0.0943 - val_loss: 0.0931\n",
            "Epoch 44/50\n",
            "469/469 [==============================] - 69s 148ms/step - loss: 0.0942 - val_loss: 0.0932\n",
            "Epoch 45/50\n",
            "469/469 [==============================] - 69s 147ms/step - loss: 0.0940 - val_loss: 0.0931\n",
            "Epoch 46/50\n",
            "469/469 [==============================] - 69s 147ms/step - loss: 0.0941 - val_loss: 0.0928\n",
            "Epoch 47/50\n",
            "469/469 [==============================] - 69s 147ms/step - loss: 0.0940 - val_loss: 0.0924\n",
            "Epoch 48/50\n",
            "469/469 [==============================] - 69s 147ms/step - loss: 0.0938 - val_loss: 0.0926\n",
            "Epoch 49/50\n",
            "469/469 [==============================] - 71s 151ms/step - loss: 0.0936 - val_loss: 0.0922\n",
            "Epoch 50/50\n",
            "469/469 [==============================] - 69s 147ms/step - loss: 0.0932 - val_loss: 0.0923\n"
          ],
          "name": "stdout"
        },
        {
          "output_type": "execute_result",
          "data": {
            "text/plain": [
              "<keras.callbacks.History at 0x7f0e6622ff90>"
            ]
          },
          "metadata": {
            "tags": []
          },
          "execution_count": 37
        }
      ]
    },
    {
      "cell_type": "code",
      "metadata": {
        "id": "pTKWSmNHWKcm"
      },
      "source": [
        "decoded_imgs = autoencoder.predict(x_test)"
      ],
      "execution_count": 38,
      "outputs": []
    },
    {
      "cell_type": "code",
      "metadata": {
        "colab": {
          "base_uri": "https://localhost:8080/",
          "height": 248
        },
        "id": "5ZQZyvssWOUZ",
        "outputId": "d06c43bf-5ba7-4b8a-da9c-a88ff1b6b733"
      },
      "source": [
        "n = 10\n",
        "plt.figure(figsize=(20, 4))\n",
        "for i in range(1, n + 1):\n",
        "\n",
        "    ax = plt.subplot(2, n, i)\n",
        "    plt.imshow(x_test[i].reshape(28, 28))\n",
        "    plt.gray()\n",
        "    ax.get_xaxis().set_visible(False)\n",
        "    ax.get_yaxis().set_visible(False)\n",
        "\n",
        "    ax = plt.subplot(2, n, i + n)\n",
        "    plt.imshow(decoded_imgs[i].reshape(28, 28))\n",
        "    plt.gray()\n",
        "    ax.get_xaxis().set_visible(False)\n",
        "    ax.get_yaxis().set_visible(False)\n",
        "plt.show()"
      ],
      "execution_count": 39,
      "outputs": [
        {
          "output_type": "display_data",
          "data": {
            "image/png": "[encoded data removed]",
            "text/plain": [
              "<Figure size 1440x288 with 20 Axes>"
            ]
          },
          "metadata": {
            "tags": [],
            "needs_background": "light"
          }
        }
      ]
    },
    {
      "cell_type": "code",
      "metadata": {
        "colab": {
          "base_uri": "https://localhost:8080/",
          "height": 469
        },
        "id": "UHoI9179WRK8",
        "outputId": "4861efa6-3ffa-413a-b3e5-be4664082be1"
      },
      "source": [
        "encoder = keras.Model(input_img, encoded)\n",
        "encoded_imgs = encoder.predict(x_test)\n",
        "\n",
        "n = 10\n",
        "plt.figure(figsize=(20, 8))\n",
        "for i in range(1, n + 1):\n",
        "    ax = plt.subplot(1, n, i)\n",
        "    plt.imshow(encoded_imgs[i].reshape((4, 4 * 8)).T)\n",
        "    plt.gray()\n",
        "    ax.get_xaxis().set_visible(False)\n",
        "    ax.get_yaxis().set_visible(False)\n",
        "plt.show()"
      ],
      "execution_count": 40,
      "outputs": [
        {
          "output_type": "display_data",
          "data": {
            "image/png": "[encoded data removed]",
            "text/plain": [
              "<Figure size 1440x576 with 10 Axes>"
            ]
          },
          "metadata": {
            "tags": [],
            "needs_background": "light"
          }
        }
      ]
    },
    {
      "cell_type": "markdown",
      "metadata": {
        "id": "EvL4ZQPkWXjL"
      },
      "source": [
        "Image Denoising"
      ]
    },
    {
      "cell_type": "code",
      "metadata": {
        "id": "EhZcUd6nWU3_"
      },
      "source": [
        "(x_train, _), (x_test, _) = mnist.load_data()"
      ],
      "execution_count": 41,
      "outputs": []
    },
    {
      "cell_type": "code",
      "metadata": {
        "id": "dKtlz-dGWdNT"
      },
      "source": [
        "x_train = x_train.astype('float32') / 255.\n",
        "x_test = x_test.astype('float32') / 255.\n",
        "x_train = np.reshape(x_train, (len(x_train), 28, 28, 1))\n",
        "x_test = np.reshape(x_test, (len(x_test), 28, 28, 1))"
      ],
      "execution_count": 42,
      "outputs": []
    },
    {
      "cell_type": "code",
      "metadata": {
        "id": "vFzvcYktWfbG"
      },
      "source": [
        "noise_factor = 0.5\n",
        "x_train_noisy = x_train + noise_factor * np.random.normal(loc=0.0, scale=1.0, size=x_train.shape) \n",
        "x_test_noisy = x_test + noise_factor * np.random.normal(loc=0.0, scale=1.0, size=x_test.shape) "
      ],
      "execution_count": 43,
      "outputs": []
    },
    {
      "cell_type": "code",
      "metadata": {
        "id": "tvUtBqUeWhKW"
      },
      "source": [
        "x_train_noisy = np.clip(x_train_noisy, 0., 1.)\n",
        "x_test_noisy = np.clip(x_test_noisy, 0., 1.)"
      ],
      "execution_count": 44,
      "outputs": []
    },
    {
      "cell_type": "code",
      "metadata": {
        "colab": {
          "base_uri": "https://localhost:8080/",
          "height": 129
        },
        "id": "KKOz0GsgWiSm",
        "outputId": "c6b179c2-3845-40f3-f17a-78a39b6153d7"
      },
      "source": [
        "n = 10\n",
        "plt.figure(figsize=(20, 2))\n",
        "for i in range(1, n + 1):\n",
        "    ax = plt.subplot(1, n, i)\n",
        "    plt.imshow(x_test_noisy[i].reshape(28, 28))\n",
        "    plt.gray()\n",
        "    ax.get_xaxis().set_visible(False)\n",
        "    ax.get_yaxis().set_visible(False)\n",
        "plt.show()"
      ],
      "execution_count": 45,
      "outputs": [
        {
          "output_type": "display_data",
          "data": {
            "image/png": "[encoded data removed]",
            "text/plain": [
              "<Figure size 1440x144 with 10 Axes>"
            ]
          },
          "metadata": {
            "tags": [],
            "needs_background": "light"
          }
        }
      ]
    },
    {
      "cell_type": "code",
      "metadata": {
        "id": "8h05N1W3Wla-"
      },
      "source": [
        "input_img = keras.Input(shape=(28, 28, 1))\n",
        "\n",
        "x = layers.Conv2D(32, (3, 3), activation='relu', padding='same')(input_img)\n",
        "x = layers.MaxPooling2D((2, 2), padding='same')(x)\n",
        "x = layers.Conv2D(32, (3, 3), activation='relu', padding='same')(x)\n",
        "encoded = layers.MaxPooling2D((2, 2), padding='same')(x)"
      ],
      "execution_count": 46,
      "outputs": []
    },
    {
      "cell_type": "code",
      "metadata": {
        "id": "6gi9wBUmWoUJ"
      },
      "source": [
        "x = layers.Conv2D(32, (3, 3), activation='relu', padding='same')(encoded)\n",
        "x = layers.UpSampling2D((2, 2))(x)\n",
        "x = layers.Conv2D(32, (3, 3), activation='relu', padding='same')(x)\n",
        "x = layers.UpSampling2D((2, 2))(x)\n",
        "decoded = layers.Conv2D(1, (3, 3), activation='sigmoid', padding='same')(x)"
      ],
      "execution_count": 47,
      "outputs": []
    },
    {
      "cell_type": "code",
      "metadata": {
        "id": "OWCyccLvWpzy"
      },
      "source": [
        "autoencoder = keras.Model(input_img, decoded)\n",
        "autoencoder.compile(optimizer='adam', loss='binary_crossentropy')"
      ],
      "execution_count": 48,
      "outputs": []
    },
    {
      "cell_type": "code",
      "metadata": {
        "colab": {
          "base_uri": "https://localhost:8080/"
        },
        "id": "IHhAwyQTWrIl",
        "outputId": "be7fc83d-4e6e-419d-f73e-dff2eb52db1c"
      },
      "source": [
        "autoencoder.fit(x_train_noisy, x_train,\n",
        "                epochs=100,\n",
        "                batch_size=128,\n",
        "                shuffle=True,\n",
        "                validation_data=(x_test_noisy, x_test),\n",
        "                callbacks=[TensorBoard(log_dir='/tmp/tb', histogram_freq=0, write_graph=False)])"
      ],
      "execution_count": null,
      "outputs": [
        {
          "output_type": "stream",
          "text": [
            "Epoch 1/100\n",
            "469/469 [==============================] - 135s 286ms/step - loss: 0.2603 - val_loss: 0.1157\n",
            "Epoch 2/100\n",
            "469/469 [==============================] - 135s 288ms/step - loss: 0.1144 - val_loss: 0.1078\n",
            "Epoch 3/100\n",
            "469/469 [==============================] - 133s 284ms/step - loss: 0.1080 - val_loss: 0.1043\n",
            "Epoch 4/100\n",
            "469/469 [==============================] - 133s 284ms/step - loss: 0.1048 - val_loss: 0.1020\n",
            "Epoch 5/100\n",
            "469/469 [==============================] - 133s 284ms/step - loss: 0.1025 - val_loss: 0.1005\n",
            "Epoch 6/100\n",
            "469/469 [==============================] - 133s 283ms/step - loss: 0.1011 - val_loss: 0.0994\n",
            "Epoch 7/100\n",
            "469/469 [==============================] - 133s 283ms/step - loss: 0.1000 - val_loss: 0.0991\n",
            "Epoch 8/100\n",
            "469/469 [==============================] - 132s 282ms/step - loss: 0.0992 - val_loss: 0.0980\n",
            "Epoch 9/100\n",
            "469/469 [==============================] - 133s 283ms/step - loss: 0.0985 - val_loss: 0.0976\n",
            "Epoch 10/100\n",
            "469/469 [==============================] - 134s 285ms/step - loss: 0.0981 - val_loss: 0.0969\n",
            "Epoch 11/100\n",
            "469/469 [==============================] - 137s 293ms/step - loss: 0.0976 - val_loss: 0.0966\n",
            "Epoch 12/100\n",
            "469/469 [==============================] - 136s 290ms/step - loss: 0.0972 - val_loss: 0.0963\n",
            "Epoch 13/100\n",
            "469/469 [==============================] - 136s 291ms/step - loss: 0.0969 - val_loss: 0.0962\n",
            "Epoch 14/100\n",
            "469/469 [==============================] - 136s 291ms/step - loss: 0.0967 - val_loss: 0.0957\n",
            "Epoch 15/100\n",
            "469/469 [==============================] - 137s 293ms/step - loss: 0.0961 - val_loss: 0.0956\n",
            "Epoch 16/100\n",
            "469/469 [==============================] - 137s 293ms/step - loss: 0.0961 - val_loss: 0.0954\n",
            "Epoch 17/100\n",
            "469/469 [==============================] - 136s 290ms/step - loss: 0.0960 - val_loss: 0.0953\n",
            "Epoch 18/100\n",
            "469/469 [==============================] - 137s 292ms/step - loss: 0.0958 - val_loss: 0.0951\n",
            "Epoch 19/100\n",
            "469/469 [==============================] - 136s 291ms/step - loss: 0.0957 - val_loss: 0.0950\n",
            "Epoch 20/100\n",
            "469/469 [==============================] - 137s 292ms/step - loss: 0.0955 - val_loss: 0.0950\n",
            "Epoch 21/100\n",
            "469/469 [==============================] - 136s 289ms/step - loss: 0.0955 - val_loss: 0.0950\n",
            "Epoch 22/100\n",
            "469/469 [==============================] - 135s 289ms/step - loss: 0.0952 - val_loss: 0.0950\n",
            "Epoch 23/100\n",
            "469/469 [==============================] - 135s 288ms/step - loss: 0.0953 - val_loss: 0.0946\n",
            "Epoch 24/100\n",
            "469/469 [==============================] - 136s 291ms/step - loss: 0.0951 - val_loss: 0.0947\n",
            "Epoch 25/100\n",
            "469/469 [==============================] - 136s 289ms/step - loss: 0.0949 - val_loss: 0.0945\n",
            "Epoch 26/100\n",
            "469/469 [==============================] - 135s 287ms/step - loss: 0.0947 - val_loss: 0.0945\n",
            "Epoch 27/100\n",
            "469/469 [==============================] - 135s 289ms/step - loss: 0.0950 - val_loss: 0.0944\n",
            "Epoch 28/100\n",
            "469/469 [==============================] - 135s 288ms/step - loss: 0.0947 - val_loss: 0.0944\n",
            "Epoch 29/100\n",
            "469/469 [==============================] - 136s 290ms/step - loss: 0.0945 - val_loss: 0.0949\n",
            "Epoch 30/100\n",
            "469/469 [==============================] - 135s 288ms/step - loss: 0.0947 - val_loss: 0.0942\n",
            "Epoch 31/100\n",
            "469/469 [==============================] - 136s 290ms/step - loss: 0.0945 - val_loss: 0.0941\n",
            "Epoch 32/100\n",
            "469/469 [==============================] - 136s 291ms/step - loss: 0.0944 - val_loss: 0.0941\n",
            "Epoch 33/100\n",
            "469/469 [==============================] - 135s 288ms/step - loss: 0.0944 - val_loss: 0.0945\n",
            "Epoch 34/100\n",
            "469/469 [==============================] - 135s 288ms/step - loss: 0.0944 - val_loss: 0.0940\n",
            "Epoch 35/100\n",
            "469/469 [==============================] - 135s 288ms/step - loss: 0.0943 - val_loss: 0.0940\n",
            "Epoch 36/100\n",
            "469/469 [==============================] - 135s 287ms/step - loss: 0.0943 - val_loss: 0.0941\n",
            "Epoch 37/100\n",
            "469/469 [==============================] - 135s 287ms/step - loss: 0.0943 - val_loss: 0.0940\n",
            "Epoch 38/100\n",
            "469/469 [==============================] - 135s 288ms/step - loss: 0.0943 - val_loss: 0.0939\n",
            "Epoch 39/100\n",
            "469/469 [==============================] - 135s 288ms/step - loss: 0.0942 - val_loss: 0.0939\n",
            "Epoch 40/100\n",
            "469/469 [==============================] - 135s 287ms/step - loss: 0.0941 - val_loss: 0.0939\n",
            "Epoch 41/100\n",
            "469/469 [==============================] - 135s 288ms/step - loss: 0.0940 - val_loss: 0.0938\n",
            "Epoch 42/100\n",
            "469/469 [==============================] - 134s 286ms/step - loss: 0.0941 - val_loss: 0.0938\n",
            "Epoch 43/100\n",
            "469/469 [==============================] - 132s 282ms/step - loss: 0.0941 - val_loss: 0.0936\n",
            "Epoch 44/100\n",
            "469/469 [==============================] - 135s 288ms/step - loss: 0.0940 - val_loss: 0.0938\n",
            "Epoch 45/100\n",
            "469/469 [==============================] - 135s 287ms/step - loss: 0.0938 - val_loss: 0.0937\n",
            "Epoch 46/100\n",
            "469/469 [==============================] - 132s 281ms/step - loss: 0.0940 - val_loss: 0.0937\n",
            "Epoch 47/100\n",
            "469/469 [==============================] - 131s 279ms/step - loss: 0.0938 - val_loss: 0.0938\n",
            "Epoch 48/100\n",
            "469/469 [==============================] - 132s 281ms/step - loss: 0.0940 - val_loss: 0.0937\n",
            "Epoch 49/100\n",
            "469/469 [==============================] - 132s 281ms/step - loss: 0.0940 - val_loss: 0.0937\n",
            "Epoch 50/100\n",
            "469/469 [==============================] - 132s 280ms/step - loss: 0.0941 - val_loss: 0.0936\n",
            "Epoch 51/100\n",
            "469/469 [==============================] - 133s 283ms/step - loss: 0.0939 - val_loss: 0.0936\n",
            "Epoch 52/100\n",
            "469/469 [==============================] - 132s 281ms/step - loss: 0.0936 - val_loss: 0.0938\n",
            "Epoch 53/100\n",
            "469/469 [==============================] - 133s 284ms/step - loss: 0.0939 - val_loss: 0.0937\n",
            "Epoch 54/100\n",
            "469/469 [==============================] - 132s 282ms/step - loss: 0.0938 - val_loss: 0.0935\n",
            "Epoch 55/100\n",
            "469/469 [==============================] - 133s 284ms/step - loss: 0.0937 - val_loss: 0.0936\n",
            "Epoch 56/100\n",
            "469/469 [==============================] - 132s 282ms/step - loss: 0.0938 - val_loss: 0.0935\n",
            "Epoch 57/100\n",
            "469/469 [==============================] - 132s 281ms/step - loss: 0.0936 - val_loss: 0.0936\n",
            "Epoch 58/100\n",
            "469/469 [==============================] - 132s 281ms/step - loss: 0.0936 - val_loss: 0.0942\n",
            "Epoch 59/100\n",
            "469/469 [==============================] - 133s 284ms/step - loss: 0.0938 - val_loss: 0.0938\n",
            "Epoch 60/100\n",
            "273/469 [================>.............] - ETA: 54s - loss: 0.0935"
          ],
          "name": "stdout"
        }
      ]
    },
    {
      "cell_type": "markdown",
      "metadata": {
        "id": "itKUo1DBW5d6"
      },
      "source": [
        "Variational autoencoder"
      ]
    },
    {
      "cell_type": "code",
      "metadata": {
        "id": "qEM1XtCDWsSZ"
      },
      "source": [
        "original_dim = 28 * 28\n",
        "intermediate_dim = 64\n",
        "latent_dim = 2"
      ],
      "execution_count": null,
      "outputs": []
    },
    {
      "cell_type": "code",
      "metadata": {
        "id": "Wb-5sIPVW7Zg"
      },
      "source": [
        "inputs = keras.Input(shape=(original_dim,))\n",
        "h = layers.Dense(intermediate_dim, activation='relu')(inputs)\n",
        "z_mean = layers.Dense(latent_dim)(h)\n",
        "z_log_sigma = layers.Dense(latent_dim)(h)"
      ],
      "execution_count": null,
      "outputs": []
    },
    {
      "cell_type": "code",
      "metadata": {
        "id": "C13HmUwZW89t"
      },
      "source": [
        "from keras import backend as K"
      ],
      "execution_count": null,
      "outputs": []
    },
    {
      "cell_type": "code",
      "metadata": {
        "id": "D2LmDs4VW-fe"
      },
      "source": [
        "def sampling(args):\n",
        "    z_mean, z_log_sigma = args\n",
        "    epsilon = K.random_normal(shape=(K.shape(z_mean)[0], latent_dim),\n",
        "                              mean=0., stddev=0.1)\n",
        "    return z_mean + K.exp(z_log_sigma) * epsilon\n",
        "\n",
        "z = layers.Lambda(sampling)([z_mean, z_log_sigma])"
      ],
      "execution_count": null,
      "outputs": []
    },
    {
      "cell_type": "code",
      "metadata": {
        "id": "dSb49d7YW_tu"
      },
      "source": [
        "encoder = keras.Model(inputs, [z_mean, z_log_sigma, z], name='encoder')\n"
      ],
      "execution_count": null,
      "outputs": []
    },
    {
      "cell_type": "code",
      "metadata": {
        "id": "Mm0JuYoTXBeD"
      },
      "source": [
        "latent_inputs = keras.Input(shape=(latent_dim,), name='z_sampling')\n",
        "x = layers.Dense(intermediate_dim, activation='relu')(latent_inputs)\n",
        "outputs = layers.Dense(original_dim, activation='sigmoid')(x)\n",
        "decoder = keras.Model(latent_inputs, outputs, name='decoder')"
      ],
      "execution_count": null,
      "outputs": []
    },
    {
      "cell_type": "code",
      "metadata": {
        "id": "MF32GtNSXCzJ"
      },
      "source": [
        "outputs = decoder(encoder(inputs)[2])\n",
        "vae = keras.Model(inputs, outputs, name='vae_mlp')"
      ],
      "execution_count": null,
      "outputs": []
    },
    {
      "cell_type": "code",
      "metadata": {
        "id": "q_JBlzMzXEBA"
      },
      "source": [
        "reconstruction_loss = keras.losses.binary_crossentropy(inputs, outputs)\n",
        "reconstruction_loss *= original_dim\n",
        "kl_loss = 1 + z_log_sigma - K.square(z_mean) - K.exp(z_log_sigma)\n",
        "kl_loss = K.sum(kl_loss, axis=-1)\n",
        "kl_loss *= -0.5\n",
        "vae_loss = K.mean(reconstruction_loss + kl_loss)\n",
        "vae.add_loss(vae_loss)\n",
        "vae.compile(optimizer='adam')"
      ],
      "execution_count": null,
      "outputs": []
    },
    {
      "cell_type": "code",
      "metadata": {
        "id": "NpOMA7S9XGlT"
      },
      "source": [
        "(x_train, y_train), (x_test, y_test) = mnist.load_data()"
      ],
      "execution_count": null,
      "outputs": []
    },
    {
      "cell_type": "code",
      "metadata": {
        "id": "UCnDCiXKXIwE"
      },
      "source": [
        "x_train = x_train.astype('float32') / 255.\n",
        "x_test = x_test.astype('float32') / 255.\n",
        "x_train = x_train.reshape((len(x_train), np.prod(x_train.shape[1:])))\n",
        "x_test = x_test.reshape((len(x_test), np.prod(x_test.shape[1:])))"
      ],
      "execution_count": null,
      "outputs": []
    },
    {
      "cell_type": "code",
      "metadata": {
        "id": "WQbkOk2EXJ76"
      },
      "source": [
        "vae.fit(x_train, x_train,\n",
        "        epochs=100,\n",
        "        batch_size=32,\n",
        "        validation_data=(x_test, x_test))"
      ],
      "execution_count": null,
      "outputs": []
    },
    {
      "cell_type": "code",
      "metadata": {
        "id": "XuZS318EXLV3"
      },
      "source": [
        "x_test_encoded = encoder.predict(x_test, batch_size=batch_size)\n",
        "plt.figure(figsize=(6, 6))\n",
        "plt.scatter(x_test_encoded[:, 0], x_test_encoded[:, 1], c=y_test)\n",
        "plt.colorbar()\n",
        "plt.show()"
      ],
      "execution_count": null,
      "outputs": []
    },
    {
      "cell_type": "code",
      "metadata": {
        "id": "HAPLqfR0XNeL"
      },
      "source": [
        "n = 15 \n",
        "digit_size = 28\n",
        "figure = np.zeros((digit_size * n, digit_size * n))\n",
        "\n",
        "grid_x = np.linspace(-15, 15, n)\n",
        "grid_y = np.linspace(-15, 15, n)\n",
        "\n",
        "for i, yi in enumerate(grid_x):\n",
        "    for j, xi in enumerate(grid_y):\n",
        "        z_sample = np.array([[xi, yi]])\n",
        "        x_decoded = decoder.predict(z_sample)\n",
        "        digit = x_decoded[0].reshape(digit_size, digit_size)\n",
        "        figure[i * digit_size: (i + 1) * digit_size,\n",
        "               j * digit_size: (j + 1) * digit_size] = digit\n",
        "\n",
        "plt.figure(figsize=(10, 10))\n",
        "plt.imshow(figure)\n",
        "plt.show()"
      ],
      "execution_count": null,
      "outputs": []
    },
    {
      "cell_type": "code",
      "metadata": {
        "id": "-9ZHH6U5XcNu"
      },
      "source": [
        ""
      ],
      "execution_count": null,
      "outputs": []
    }
  ]
}