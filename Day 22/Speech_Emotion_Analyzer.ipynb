{
  "nbformat": 4,
  "nbformat_minor": 0,
  "metadata": {
    "colab": {
      "name": "Speech Emotion Analyzer.ipynb",
      "provenance": [],
      "authorship_tag": "ABX9TyMu+neKTrmFhEtFIbxfgroJ"
    },
    "kernelspec": {
      "name": "python3",
      "display_name": "Python 3"
    },
    "language_info": {
      "name": "python"
    }
  },
  "cells": [
    {
      "cell_type": "code",
      "metadata": {
        "id": "DbIqn4grXkdr"
      },
      "source": [
        "from keras.models import model_from_json"
      ],
      "execution_count": null,
      "outputs": []
    },
    {
      "cell_type": "code",
      "metadata": {
        "colab": {
          "base_uri": "https://localhost:8080/"
        },
        "id": "sTwztfeLYM4p",
        "outputId": "278d81be-f138-4097-c0a8-aac10aa8926e"
      },
      "source": [
        "from google.colab import drive\n",
        "drive.mount('/content/drive')"
      ],
      "execution_count": null,
      "outputs": [
        {
          "output_type": "stream",
          "text": [
            "Drive already mounted at /content/drive; to attempt to forcibly remount, call drive.mount(\"/content/drive\", force_remount=True).\n"
          ],
          "name": "stdout"
        }
      ]
    },
    {
      "cell_type": "markdown",
      "metadata": {
        "id": "hNoikolFbBsz"
      },
      "source": [
        "Loading Model"
      ]
    },
    {
      "cell_type": "code",
      "metadata": {
        "id": "uRbxsObIZ6KU"
      },
      "source": [
        "model_path = \"/content/drive/MyDrive/MIT FutureMakers/Day 22/Emotion_Voice_Detection_Model.h5\""
      ],
      "execution_count": null,
      "outputs": []
    },
    {
      "cell_type": "code",
      "metadata": {
        "id": "yoRGxuK-YnBo"
      },
      "source": [
        "from keras.models import load_model\n",
        "model = load_model(model_path)"
      ],
      "execution_count": null,
      "outputs": []
    }
  ]
}